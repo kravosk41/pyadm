{
 "cells": [
  {
   "cell_type": "markdown",
   "id": "5871b11c-d7b4-417c-937c-2f6b4f7baffc",
   "metadata": {},
   "source": [
    "# Quaterly Specialty Inclusion Exclusion File -"
   ]
  },
  {
   "cell_type": "code",
   "execution_count": 1,
   "id": "684fd451-f79e-448f-b0f4-60d294aec43f",
   "metadata": {
    "jupyter": {
     "source_hidden": true
    }
   },
   "outputs": [],
   "source": [
    "import pandas as pd\n",
    "import polars as pl\n",
    "import numpy as np"
   ]
  },
  {
   "cell_type": "code",
   "execution_count": 2,
   "id": "809ec9dd-cfb7-4de0-8efa-6e597cfa12e4",
   "metadata": {
    "jupyter": {
     "source_hidden": true
    }
   },
   "outputs": [],
   "source": [
    "# Update Variables - \n",
    "QTR = '2025Q1'\n",
    "QTRP = '2024Q4'\n",
    "UPDATE = '20241111' #Receive data Monday, Frozen week;\n",
    "\n",
    "INPT = 'Q12025_Specialty Inclusion Exclusion_formatted'\n",
    "TAB = 'IRWD Specialty List'\n",
    "\n",
    "SPEC = f's3://vortex-staging-a65ced90/PYADM/quaterly/{QTR}/reference/'\n",
    "SPEC_P = f's3://vortex-staging-a65ced90/PYADM/quaterly/{QTRP}/reference/'"
   ]
  },
  {
   "cell_type": "markdown",
   "id": "32419b96-77ed-4044-a2b6-686381ee4d91",
   "metadata": {},
   "source": [
    "---"
   ]
  },
  {
   "cell_type": "code",
   "execution_count": 3,
   "id": "275d744d-bb21-4f64-92c3-1dbb415e59f5",
   "metadata": {
    "jupyter": {
     "source_hidden": true
    }
   },
   "outputs": [],
   "source": [
    "# Importing Raw FILE - \n",
    "SPECIALTYEXCLUSION = pl.from_pandas(pd.read_excel(\n",
    "    f's3://vortex-staging-a65ced90/PYADM/raw/{UPDATE}/quaterly_raw/{INPT}.xlsx',\n",
    "    sheet_name= TAB\n",
    "))"
   ]
  },
  {
   "cell_type": "code",
   "execution_count": 4,
   "id": "3ae0dd75-db34-4c00-ad82-431215d28219",
   "metadata": {
    "jupyter": {
     "source_hidden": true
    }
   },
   "outputs": [],
   "source": [
    "# Main File - \n",
    "SPEC_INCL_LIN = (\n",
    "    SPECIALTYEXCLUSION\n",
    "    .filter(pl.col('I_Spclty_Cd').is_not_null())\n",
    "    .with_columns(\n",
    "        pl.col('I_Spclty_Cd').str.to_uppercase().alias('SPECIALTY_CD'),\n",
    "        pl.col('I_Spclty_Desc').str.to_uppercase().alias('SPECIALTY_DESCRIPTION'),\n",
    "        pl.when(pl.col('LIN_Specialty_Excln')=='EXCLUDE').then(pl.lit('N'))\n",
    "        .when(pl.col('LIN_Specialty_Excln')=='INCLUDE').then(pl.lit('Y'))\n",
    "        .otherwise(None).alias('SPEC_INCL')\n",
    "    )\n",
    "    .select(['SPECIALTY_CD', 'SPECIALTY_DESCRIPTION', 'SPEC_INCL'])\n",
    "    .unique()\n",
    ")"
   ]
  },
  {
   "cell_type": "code",
   "execution_count": 5,
   "id": "cbbec72b-69e2-4cdf-8778-8a700516f1d9",
   "metadata": {
    "jupyter": {
     "source_hidden": true
    },
    "scrolled": true
   },
   "outputs": [
    {
     "data": {
      "text/html": [
       "<div><style>\n",
       ".dataframe > thead > tr,\n",
       ".dataframe > tbody > tr {\n",
       "  text-align: right;\n",
       "  white-space: pre-wrap;\n",
       "}\n",
       "</style>\n",
       "<small>shape: (0, 8)</small><table border=\"1\" class=\"dataframe\"><thead><tr><th>SPECIALTY_CD</th><th>SPECIALTY_DESCRIPTION</th><th>SPEC_INCL</th><th>SPECIALTY_DESCRIPTION_right</th><th>SPEC_INCL_right</th><th>OLD_NEW</th><th>DIFF_INCL</th><th>DIFF_DESC</th></tr><tr><td>str</td><td>str</td><td>str</td><td>str</td><td>str</td><td>str</td><td>i32</td><td>i32</td></tr></thead><tbody></tbody></table></div>"
      ],
      "text/plain": [
       "shape: (0, 8)\n",
       "┌─────────────┬────────────┬───────────┬────────────┬────────────┬─────────┬───────────┬───────────┐\n",
       "│ SPECIALTY_C ┆ SPECIALTY_ ┆ SPEC_INCL ┆ SPECIALTY_ ┆ SPEC_INCL_ ┆ OLD_NEW ┆ DIFF_INCL ┆ DIFF_DESC │\n",
       "│ D           ┆ DESCRIPTIO ┆ ---       ┆ DESCRIPTIO ┆ right      ┆ ---     ┆ ---       ┆ ---       │\n",
       "│ ---         ┆ N          ┆ str       ┆ N_right    ┆ ---        ┆ str     ┆ i32       ┆ i32       │\n",
       "│ str         ┆ ---        ┆           ┆ ---        ┆ str        ┆         ┆           ┆           │\n",
       "│             ┆ str        ┆           ┆ str        ┆            ┆         ┆           ┆           │\n",
       "╞═════════════╪════════════╪═══════════╪════════════╪════════════╪═════════╪═══════════╪═══════════╡\n",
       "└─────────────┴────────────┴───────────┴────────────┴────────────┴─────────┴───────────┴───────────┘"
      ]
     },
     "execution_count": 5,
     "metadata": {},
     "output_type": "execute_result"
    }
   ],
   "source": [
    "# QC  - *Compare manually to prev spec file and log updates;\n",
    "PRIOR_SPEC_INCL_LIN = pl.read_parquet(f'{SPEC_P}qtrspec_SPEC_INCL_LIN.parquet')\n",
    "\n",
    "SPEC_INCL_DIFF_LIN = (\n",
    "    PRIOR_SPEC_INCL_LIN\n",
    "    .join(SPEC_INCL_LIN,on = 'SPECIALTY_CD',how = 'outer_coalesce')\n",
    "    .with_columns(\n",
    "        pl.when(pl.col('SPEC_INCL').is_not_null() & pl.col('SPEC_INCL_right').is_null()).then(pl.lit('1_0'))\n",
    "        .when(pl.col('SPEC_INCL').is_null() & pl.col('SPEC_INCL_right').is_not_null()).then(pl.lit('0_1'))\n",
    "        .otherwise(pl.lit('1_1')).alias('OLD_NEW'),\n",
    "\n",
    "        pl.when(pl.col('SPEC_INCL')==pl.col('SPEC_INCL_right')).then(0)\n",
    "        .otherwise(1).alias('DIFF_INCL'),\n",
    "        pl.when(pl.col('SPECIALTY_DESCRIPTION')==pl.col('SPECIALTY_DESCRIPTION_right')).then(0)\n",
    "        .otherwise(1).alias('DIFF_DESC')\n",
    "    )\n",
    "    .filter(\n",
    "        (pl.col('DIFF_INCL') == 1) | (pl.col('DIFF_DESC') == 1) | (pl.col('OLD_NEW') != '1_1')\n",
    "    )\n",
    ")\n",
    "SPEC_INCL_DIFF_LIN"
   ]
  },
  {
   "cell_type": "code",
   "execution_count": 6,
   "id": "e2e18b13-b276-4bae-969e-4d78d4ed43b8",
   "metadata": {
    "jupyter": {
     "source_hidden": true
    }
   },
   "outputs": [],
   "source": [
    "# EXPORT - \n",
    "SPEC_INCL_LIN.to_pandas().to_parquet(f'{SPEC}qtrspec_SPEC_INCL_LIN.parquet')"
   ]
  }
 ],
 "metadata": {
  "kernelspec": {
   "display_name": "Python 3 (ipykernel)",
   "language": "python",
   "name": "python3"
  },
  "language_info": {
   "codemirror_mode": {
    "name": "ipython",
    "version": 3
   },
   "file_extension": ".py",
   "mimetype": "text/x-python",
   "name": "python",
   "nbconvert_exporter": "python",
   "pygments_lexer": "ipython3",
   "version": "3.10.14"
  }
 },
 "nbformat": 4,
 "nbformat_minor": 5
}
