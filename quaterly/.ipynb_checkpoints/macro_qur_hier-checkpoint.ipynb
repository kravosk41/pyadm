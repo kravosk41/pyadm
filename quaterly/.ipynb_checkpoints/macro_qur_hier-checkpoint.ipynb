{
 "cells": [
  {
   "cell_type": "markdown",
   "id": "7275eacd-e507-4a04-97ed-13479c3eeb77",
   "metadata": {},
   "source": [
    "#### Code to automate formatting of heir input file"
   ]
  },
  {
   "cell_type": "code",
   "execution_count": null,
   "id": "94a34ba5-8466-4a2d-8fcd-5e64f9dca34e",
   "metadata": {
    "jupyter": {
     "source_hidden": true
    }
   },
   "outputs": [],
   "source": [
    "import pandas as pd\n",
    "import polars as pl\n",
    "import numpy as np"
   ]
  },
  {
   "cell_type": "code",
   "execution_count": null,
   "id": "bddc5452-b1f7-43de-a2c5-949549369e3a",
   "metadata": {
    "jupyter": {
     "source_hidden": true
    }
   },
   "outputs": [],
   "source": [
    "# Update Paths\n",
    "WEEK = '20241111' # Monday of freezing data\n",
    "INPUT = f's3://vortex-staging-a65ced90/PYADM/raw/{WEEK}/quaterly_raw/Hierarchy 2025Q1 93 Territories.csv'\n",
    "OUTPUT = f's3://vortex-staging-a65ced90/PYADM/raw/{WEEK}/quaterly_raw/Hierarchy 2025Q1 93 Territories_formatted.xlsx'"
   ]
  },
  {
   "cell_type": "code",
   "execution_count": null,
   "id": "3ee574af-f896-4f5f-9774-5fe4ab50596d",
   "metadata": {
    "jupyter": {
     "source_hidden": true
    }
   },
   "outputs": [],
   "source": [
    "# Processing  - \n",
    "hierarchy = pl.from_pandas(pd.read_csv(INPUT))\n",
    "\n",
    "hierarchy = (\n",
    "    hierarchy\n",
    "    .with_columns(pl.col('Terr_id').str.len_chars().alias('len'))\n",
    ")\n",
    "\n",
    "hier1 = hierarchy.filter(pl.col('len') >= 13).drop('len')\n",
    "hier_area = hierarchy.filter((pl.col('len') == 6)).drop(['len','ParentID']).rename({'Terr_id':'Area','TerrName':'Area_Name'})\n",
    "hier_region = hierarchy.filter((pl.col('len') == 8)).drop(['len','ParentID']).rename({'Terr_id':'Region','TerrName':'Region_Name'})\n",
    "\n",
    "hier2 = (\n",
    "    hier1\n",
    "    .with_columns(pl.col('Terr_id').str.slice(0,6).alias('Area'))\n",
    "    .rename({'Terr_id':'Territory_ID','TerrName':'Territory_Name','ParentID':'Region'})\n",
    "    .join(hier_area,on='Area',how='left')\n",
    "    .join(hier_region,on='Region',how='left')\n",
    "    .select(['Area','Area_Name','Region','Region_Name','Territory_ID','Territory_Name'])\n",
    ")\n",
    "\n",
    "hier2.to_pandas().to_excel(OUTPUT,sheet_name='Hierarchy',index = False)"
   ]
  }
 ],
 "metadata": {
  "kernelspec": {
   "display_name": "Python 3 (ipykernel)",
   "language": "python",
   "name": "python3"
  },
  "language_info": {
   "codemirror_mode": {
    "name": "ipython",
    "version": 3
   },
   "file_extension": ".py",
   "mimetype": "text/x-python",
   "name": "python",
   "nbconvert_exporter": "python",
   "pygments_lexer": "ipython3",
   "version": "3.10.14"
  }
 },
 "nbformat": 4,
 "nbformat_minor": 5
}
