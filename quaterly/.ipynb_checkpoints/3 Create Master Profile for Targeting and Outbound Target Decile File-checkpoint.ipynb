{
 "cells": [
  {
   "cell_type": "markdown",
   "id": "110b4ba4-19e4-4e22-aac7-a39fe1036742",
   "metadata": {},
   "source": [
    "# Frozen Master Profile - Quaterly"
   ]
  },
  {
   "cell_type": "code",
   "execution_count": 2,
   "id": "827656ff-9bc8-421b-b8f3-0071e013a5cb",
   "metadata": {
    "jupyter": {
     "source_hidden": true
    }
   },
   "outputs": [],
   "source": [
    "import pandas as pd\n",
    "import polars as pl\n",
    "import numpy as np"
   ]
  },
  {
   "cell_type": "code",
   "execution_count": null,
   "id": "6dc59ec9-eb56-4de2-904a-1ba1d95aadc2",
   "metadata": {},
   "outputs": [],
   "source": [
    "# Set Variables - \n",
    "\n",
    "C_WKP= '20240812'#    *current processing week - Monday, current frozen week;\n",
    "P_WKP= '20240513'#    *previous frozen week or applying Forest Rating file QTR - Monday { PREV FROZEN WK MON }; \n",
    "C_WK = '20240726'#    *current Xponent data week - Friday;\n",
    "RECORD_END_DATE\t\t= '2024-12-31' #  *last date of target qtr, date do not change for the quarter;\n",
    "ACCT_TERR_START_DATE\t= '2024-10-01' #  *the first day of the target quarter;\n",
    "ACCT_TERR_END_DATE\t\t= '2024-12-31' #  *same as RECORD_END_DATE;\n",
    "\n",
    "TGTQTR = 'Q424' #target quarter;\n",
    "PTGTQTR = 'Q324' #current quarter or applying Forest Rating file QTR; \n",
    "PASS = 'PASS1'\n",
    "QTR= '2024Q4' #target quarter;\n",
    "\n",
    "\n",
    "CURWK = f's3://vortex-staging-a65ced90/PYADM/weekly/archive/{C_WKP}/reference/'\n",
    "PREWK = f's3://vortex-staging-a65ced90/PYADM/weekly/archive/{P_WKP}/reference/'\n",
    "ZIP = f's3://vortex-staging-a65ced90/PYADM/quaterly/{QTR}/geography/'\n",
    "SPEC = f's3://vortex-staging-a65ced90/PYADM/quaterly/{QTR}/reference/'\n",
    "REF_WEEK = f's3://vortex-staging-a65ced90/PYADM/weekly/archive/{C_WK}/reference/'\n"
   ]
  },
  {
   "cell_type": "code",
   "execution_count": null,
   "id": "cbae6f5d-46b8-42b9-82c6-344e84cc02fc",
   "metadata": {
    "jupyter": {
     "source_hidden": true
    }
   },
   "outputs": [],
   "source": [
    "# Input Files -\n",
    "SPEC_INCL = (\n",
    "    pl.read_parquet(f'{SPEC}qtrspec_SPEC_INCL_LIN.parquet')\n",
    "    .filter(pl.col('SPECIALTY_CD')!='ONM')\n",
    "    .rename({'SPEC_INCL':'SPEC_INCL_LIN','SPECIALTY_CD':'SpecialtyCode'})\n",
    ")\n",
    "\n",
    "MASTER_PROFILE = (\n",
    "    pl.read_parquet(f'{REF_WEEK}MASTER_PROFILE.parquet')\n",
    "    .drop('__index_level_0__')\n",
    ")\n",
    "\n",
    "ZIP_TO_TERR = (\n",
    "    pl.read_parquet(f'{ZIP}zip_to_terr.parquet')\n",
    ")"
   ]
  },
  {
   "cell_type": "code",
   "execution_count": null,
   "id": "04288023-c69d-4d87-846e-9df0ed0012c2",
   "metadata": {
    "jupyter": {
     "source_hidden": true
    }
   },
   "outputs": [],
   "source": [
    "# processing -\n",
    "white_space_expression = {}\n",
    "for c,v in zip(['Territory','Territory_Name','Region','Region_Name','Area','Area_Name'],['1111-99999-11','','1111-999','','1111-9','']):\n",
    "    e = {c : pl.when(pl.col(c).is_null()).then(pl.lit(v)).otherwise(pl.col(c)).alias(c)}\n",
    "    white_space_expression.update(e)\n",
    "\n",
    "specialty_expression = {\n",
    "    'SPEC_INCL_LIN' : (\n",
    "        pl.when((pl.col('SPEC_INCL_LIN').is_null()) & (pl.col('MatchCode')=='01')).then(pl.lit('N'))\n",
    "        .when((pl.col('SPEC_INCL_LIN').is_null()) & (pl.col('MatchCode')!='01')).then(pl.lit('Y'))\n",
    "        .otherwise(pl.col('SPEC_INCL_LIN')).alias('SPEC_INCL_LIN')\n",
    "    ),\n",
    "    'SPECIALTY_DESCRIPTION'  : (\n",
    "        pl.when(pl.col('SPEC_INCL_LIN').is_null()).then(pl.lit(' ')).otherwise(pl.col('SPECIALTY_DESCRIPTION'))\n",
    "    )\n",
    "}\n",
    "\n",
    "MASTER_PROFILE_TGTQTR = (\n",
    "    MASTER_PROFILE\n",
    "    .join(ZIP_TO_TERR,left_on = 'ZIP',right_on = 'Zip',how = 'left')\n",
    "    .with_columns(**white_space_expression)\n",
    "\n",
    "    .join(SPEC_INCL, on = 'SpecialtyCode',how = 'left')\n",
    "    .with_columns(**specialty_expression)\n",
    "\n",
    "    .with_columns(\n",
    "        pl.lit(RECORD_END_DATE).alias('RECORD_END_DATE'),\n",
    "        pl.lit(ACCT_TERR_START_DATE).alias('ACCT_TERR_START_DATE'),\n",
    "        pl.lit(ACCT_TERR_END_DATE).alias('ACCT_TERR_END_DATE')\n",
    "    )\n",
    ")\n",
    "\n",
    "#MASTER_PROFILE_TGTQTR = MASTER_PROFILE_TGTQTR.drop('AddressFlagType_x')"
   ]
  },
  {
   "cell_type": "code",
   "execution_count": 89,
   "id": "0cea74b2-6ee4-436d-a0d2-d828adfc651d",
   "metadata": {
    "jupyter": {
     "source_hidden": true
    }
   },
   "outputs": [],
   "source": [
    "# Export\n",
    "(\n",
    "    MASTER_PROFILE_TGTQTR\n",
    "    .to_pandas()\n",
    "    .to_parquet(f'{SPEC}MASTER_PROFILE_{QTR}.parquet',index = False)\n",
    ")"
   ]
  }
 ],
 "metadata": {
  "kernelspec": {
   "display_name": "Python 3 (ipykernel)",
   "language": "python",
   "name": "python3"
  },
  "language_info": {
   "codemirror_mode": {
    "name": "ipython",
    "version": 3
   },
   "file_extension": ".py",
   "mimetype": "text/x-python",
   "name": "python",
   "nbconvert_exporter": "python",
   "pygments_lexer": "ipython3",
   "version": "3.10.14"
  }
 },
 "nbformat": 4,
 "nbformat_minor": 5
}
