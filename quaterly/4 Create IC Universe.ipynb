{
 "cells": [
  {
   "cell_type": "markdown",
   "id": "8c35afc2-2439-4e19-be05-0c6d195ebb8f",
   "metadata": {},
   "source": [
    "# Create Quaterly Frozen IC Universe "
   ]
  },
  {
   "cell_type": "code",
   "execution_count": 1,
   "id": "aac37adb-3446-4cac-a3be-756fcd4f8bd2",
   "metadata": {
    "jupyter": {
     "source_hidden": true
    }
   },
   "outputs": [],
   "source": [
    "import pandas as pd\n",
    "import polars as pl\n",
    "import numpy as np"
   ]
  },
  {
   "cell_type": "code",
   "execution_count": 3,
   "id": "3ff72515-bc22-4f49-8aac-8c3d6cd54cf4",
   "metadata": {},
   "outputs": [],
   "source": [
    "TGTQTR = '2024Q4'\n",
    "CUR_PROC_WK = '20240812'\n",
    "CUR_WK = '20240726' #*xponent data week, even in month closing week, still use FRIDAY date;\n",
    "FILENAME = 'Q424_Exclusion_List_formatted'\n",
    "BASE = 'MASTER_PROFILE_2024Q4'\n",
    "\n",
    "ICQ = f's3://vortex-staging-a65ced90/PYADM/quaterly/{TGTQTR}/reference/'"
   ]
  },
  {
   "cell_type": "markdown",
   "id": "8477e0b3-b33c-426d-8ab1-f78719a23c21",
   "metadata": {},
   "source": [
    "exclusions - "
   ]
  },
  {
   "cell_type": "code",
   "execution_count": null,
   "id": "c8d3dd86-615a-46d7-98bd-2731c4c3d4e2",
   "metadata": {
    "jupyter": {
     "source_hidden": true
    }
   },
   "outputs": [],
   "source": [
    "# Importing Raw FILE - \n",
    "exclusion = (\n",
    "    pl.from_pandas(\n",
    "        pd.read_excel(\n",
    "            f's3://vortex-staging-a65ced90/PYADM/raw/{CUR_PROC_WK}/quaterly_raw/{FILENAME}.xlsx',\n",
    "            sheet_name= 'exclusion'\n",
    "        )\n",
    "    ).unique()\n",
    ")\n",
    "\n",
    "ukaddr = (\n",
    "    pl.from_pandas(\n",
    "        pd.read_excel(\n",
    "            f's3://vortex-staging-a65ced90/PYADM/raw/{CUR_PROC_WK}/quaterly_raw/{FILENAME}.xlsx',\n",
    "            sheet_name= 'ukaddr'\n",
    "        )\n",
    "    ).unique()\n",
    ")\n",
    "\n",
    "exclusion = exclusion['IID'].unique().to_list()\n",
    "ukaddr = ukaddr['IID'].unique().to_list()"
   ]
  },
  {
   "cell_type": "code",
   "execution_count": 45,
   "id": "3b76e303-6094-4b96-801c-4701ae36cf91",
   "metadata": {},
   "outputs": [],
   "source": [
    "CUSTOMER_MASTER_IC_LIN = (\n",
    "    pl.read_parquet(f'{ICQ}{BASE}.parquet')\n",
    "    .filter(\n",
    "        (~pl.col('IID').is_in(exclusion)) & (~pl.col('IID').is_in(ukaddr))\n",
    "    )\n",
    "    .filter(\n",
    "        (pl.col('SPEC_INCL_LIN')=='Y') & (pl.col('CustomerStatusCode')=='Active') & (pl.col('MatchCode')!='01')\n",
    "    )\n",
    ")"
   ]
  },
  {
   "cell_type": "code",
   "execution_count": 49,
   "id": "cf0c9441-cca0-4526-960c-b161d87e32e4",
   "metadata": {
    "jupyter": {
     "source_hidden": true
    }
   },
   "outputs": [],
   "source": [
    "# Export\n",
    "(\n",
    "    CUSTOMER_MASTER_IC_LIN\n",
    "    .to_pandas()\n",
    "    .to_parquet(f'{ICQ}CUSTOMER_MASTER_IC_LIN.parquet',index = False)\n",
    ")"
   ]
  }
 ],
 "metadata": {
  "kernelspec": {
   "display_name": "Python 3 (ipykernel)",
   "language": "python",
   "name": "python3"
  },
  "language_info": {
   "codemirror_mode": {
    "name": "ipython",
    "version": 3
   },
   "file_extension": ".py",
   "mimetype": "text/x-python",
   "name": "python",
   "nbconvert_exporter": "python",
   "pygments_lexer": "ipython3",
   "version": "3.10.14"
  }
 },
 "nbformat": 4,
 "nbformat_minor": 5
}
