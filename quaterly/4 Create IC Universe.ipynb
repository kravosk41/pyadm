{
 "cells": [
  {
   "cell_type": "markdown",
   "id": "8c35afc2-2439-4e19-be05-0c6d195ebb8f",
   "metadata": {},
   "source": [
    "# Create Quaterly Frozen IC Universe "
   ]
  },
  {
   "cell_type": "code",
   "execution_count": 1,
   "id": "aac37adb-3446-4cac-a3be-756fcd4f8bd2",
   "metadata": {
    "jupyter": {
     "source_hidden": true
    }
   },
   "outputs": [],
   "source": [
    "import pandas as pd\n",
    "import polars as pl\n",
    "import numpy as np"
   ]
  },
  {
   "cell_type": "code",
   "execution_count": 2,
   "id": "3ff72515-bc22-4f49-8aac-8c3d6cd54cf4",
   "metadata": {
    "jupyter": {
     "source_hidden": true
    }
   },
   "outputs": [],
   "source": [
    "TGTQTR = '2025Q1'\n",
    "CUR_PROC_WK = '20241111'\n",
    "CUR_WK = '20240925' #*xponent data week, even in month closing week, still use FRIDAY date;\n",
    "FILENAME = 'Q125_Exclusion_List_formatted'\n",
    "BASE = 'MASTER_PROFILE_2025Q1'\n",
    "\n",
    "ICQ = f's3://vortex-staging-a65ced90/PYADM/quaterly/{TGTQTR}/reference/'"
   ]
  },
  {
   "cell_type": "markdown",
   "id": "8477e0b3-b33c-426d-8ab1-f78719a23c21",
   "metadata": {},
   "source": [
    "exclusions - "
   ]
  },
  {
   "cell_type": "code",
   "execution_count": 3,
   "id": "c8d3dd86-615a-46d7-98bd-2731c4c3d4e2",
   "metadata": {
    "jupyter": {
     "source_hidden": true
    }
   },
   "outputs": [],
   "source": [
    "# Importing Raw FILE - \n",
    "exclusion = (\n",
    "    pl.from_pandas(\n",
    "        pd.read_excel(\n",
    "            f's3://vortex-staging-a65ced90/PYADM/raw/{CUR_PROC_WK}/quaterly_raw/{FILENAME}.xlsx',\n",
    "            sheet_name= 'exclusion'\n",
    "        )\n",
    "    ).unique()\n",
    ")\n",
    "\n",
    "ukaddr = (\n",
    "    pl.from_pandas(\n",
    "        pd.read_excel(\n",
    "            f's3://vortex-staging-a65ced90/PYADM/raw/{CUR_PROC_WK}/quaterly_raw/{FILENAME}.xlsx',\n",
    "            sheet_name= 'ukaddr'\n",
    "        )\n",
    "    ).unique()\n",
    ")\n",
    "\n",
    "exclusion = exclusion['IID'].unique().to_list()\n",
    "ukaddr = ukaddr['IID'].unique().to_list()"
   ]
  },
  {
   "cell_type": "code",
   "execution_count": 8,
   "id": "3f4ad713-4035-4ea2-8ec6-e0dd9120ea2b",
   "metadata": {
    "jupyter": {
     "source_hidden": true
    }
   },
   "outputs": [],
   "source": [
    "CUSTOMER_MASTER_IC_LIN = (\n",
    "    pl.read_parquet(f'{ICQ}{BASE}.parquet')\n",
    "    .filter(\n",
    "        (~pl.col('IID').is_in(exclusion)) & (~pl.col('IID').is_in(ukaddr))\n",
    "    )\n",
    "    .filter(\n",
    "        (pl.col('SPEC_INCL_LIN')=='Y') & (pl.col('CustomerStatusCode')=='Active') & (pl.col('MatchCode')!='01')\n",
    "    )\n",
    "    .filter(\n",
    "        (~pl.col('Territory').is_in(['1111-99999-11']))# new update\n",
    "    )\n",
    ")"
   ]
  },
  {
   "cell_type": "code",
   "execution_count": 38,
   "id": "cf0c9441-cca0-4526-960c-b161d87e32e4",
   "metadata": {
    "jupyter": {
     "source_hidden": true
    }
   },
   "outputs": [],
   "source": [
    "# Export\n",
    "(\n",
    "    CUSTOMER_MASTER_IC_LIN\n",
    "    .to_pandas()\n",
    "    .to_parquet(f'{ICQ}CUSTOMER_MASTER_IC_LIN.parquet',index = False)\n",
    ")"
   ]
  },
  {
   "cell_type": "markdown",
   "id": "ee21644c-ab97-456b-98c7-6435b5d95e71",
   "metadata": {},
   "source": [
    "---"
   ]
  },
  {
   "cell_type": "markdown",
   "id": "2cd8a84a-8395-441f-8bb5-bddf431b1750",
   "metadata": {
    "jp-MarkdownHeadingCollapsed": true
   },
   "source": [
    "### TESTING -"
   ]
  },
  {
   "cell_type": "code",
   "execution_count": 12,
   "id": "7ba3621a-c4bb-49d0-8546-25f886ae012b",
   "metadata": {},
   "outputs": [],
   "source": [
    "fmp = pl.read_parquet(f'{ICQ}{BASE}.parquet')"
   ]
  },
  {
   "cell_type": "code",
   "execution_count": 13,
   "id": "d3b1f51d-5671-47e3-84f5-a7caa4e19421",
   "metadata": {},
   "outputs": [],
   "source": [
    "sp = 's3://vortex-staging-a65ced90/PYQC/ADM_QC/Sas_output/Quarterly/Q1/reference/customer_master_ic_lin.sas7bdat'"
   ]
  },
  {
   "cell_type": "code",
   "execution_count": 15,
   "id": "2bcc3673-5744-441d-bc49-2e88a5e425ca",
   "metadata": {},
   "outputs": [],
   "source": [
    "sasmp = pd.read_sas(sp,encoding = 'latin1')\n",
    "sasmp = pl.from_pandas(sasmp)"
   ]
  },
  {
   "cell_type": "code",
   "execution_count": 21,
   "id": "bf0e8a1b-37b7-4fb4-9313-064ade5dbc21",
   "metadata": {},
   "outputs": [
    {
     "data": {
      "text/plain": [
       "{2414757.0, 2898852.0}"
      ]
     },
     "execution_count": 21,
     "metadata": {},
     "output_type": "execute_result"
    }
   ],
   "source": [
    "set(sasmp['IID'].unique()) - set(CUSTOMER_MASTER_IC_LIN['IID'].unique())"
   ]
  },
  {
   "cell_type": "code",
   "execution_count": 22,
   "id": "13b2b025-de95-4d5a-948c-2919255502f0",
   "metadata": {},
   "outputs": [
    {
     "data": {
      "text/plain": [
       "set()"
      ]
     },
     "execution_count": 22,
     "metadata": {},
     "output_type": "execute_result"
    }
   ],
   "source": [
    "set(CUSTOMER_MASTER_IC_LIN['IID'].unique()) - set(sasmp['IID'].unique()) "
   ]
  },
  {
   "cell_type": "code",
   "execution_count": 35,
   "id": "4b37dadf-7260-4812-b427-3b3e4c1d752f",
   "metadata": {},
   "outputs": [
    {
     "data": {
      "text/html": [
       "<div><style>\n",
       ".dataframe > thead > tr,\n",
       ".dataframe > tbody > tr {\n",
       "  text-align: right;\n",
       "  white-space: pre-wrap;\n",
       "}\n",
       "</style>\n",
       "<small>shape: (2, 5)</small><table border=\"1\" class=\"dataframe\"><thead><tr><th>IID</th><th>CustomerStatusCode</th><th>SPEC_INCL_LIN</th><th>MatchCode</th><th>Territory</th></tr><tr><td>i64</td><td>str</td><td>str</td><td>str</td><td>str</td></tr></thead><tbody><tr><td>2414757</td><td>&quot;Active&quot;</td><td>&quot;Y&quot;</td><td>&quot;00&quot;</td><td>&quot;1111-99999-11&quot;</td></tr><tr><td>2898852</td><td>&quot;Active&quot;</td><td>&quot;Y&quot;</td><td>&quot;00&quot;</td><td>&quot;1111-99999-11&quot;</td></tr></tbody></table></div>"
      ],
      "text/plain": [
       "shape: (2, 5)\n",
       "┌─────────┬────────────────────┬───────────────┬───────────┬───────────────┐\n",
       "│ IID     ┆ CustomerStatusCode ┆ SPEC_INCL_LIN ┆ MatchCode ┆ Territory     │\n",
       "│ ---     ┆ ---                ┆ ---           ┆ ---       ┆ ---           │\n",
       "│ i64     ┆ str                ┆ str           ┆ str       ┆ str           │\n",
       "╞═════════╪════════════════════╪═══════════════╪═══════════╪═══════════════╡\n",
       "│ 2414757 ┆ Active             ┆ Y             ┆ 00        ┆ 1111-99999-11 │\n",
       "│ 2898852 ┆ Active             ┆ Y             ┆ 00        ┆ 1111-99999-11 │\n",
       "└─────────┴────────────────────┴───────────────┴───────────┴───────────────┘"
      ]
     },
     "execution_count": 35,
     "metadata": {},
     "output_type": "execute_result"
    }
   ],
   "source": [
    "fmp.filter(pl.col('IID').is_in([2414757,2898852]))[['IID','CustomerStatusCode','SPEC_INCL_LIN','MatchCode','Territory']]"
   ]
  },
  {
   "cell_type": "code",
   "execution_count": 37,
   "id": "977b955d-50c3-46c8-9529-595162de33ed",
   "metadata": {},
   "outputs": [
    {
     "data": {
      "text/html": [
       "<div><style>\n",
       ".dataframe > thead > tr,\n",
       ".dataframe > tbody > tr {\n",
       "  text-align: right;\n",
       "  white-space: pre-wrap;\n",
       "}\n",
       "</style>\n",
       "<small>shape: (2, 5)</small><table border=\"1\" class=\"dataframe\"><thead><tr><th>IID</th><th>CustomerStatusCode</th><th>SPEC_INCL_LIN</th><th>MatchCode</th><th>Territory</th></tr><tr><td>f64</td><td>str</td><td>str</td><td>str</td><td>str</td></tr></thead><tbody><tr><td>2.414757e6</td><td>&quot;Active&quot;</td><td>&quot;Y&quot;</td><td>&quot;00&quot;</td><td>&quot;1111-20102-11&quot;</td></tr><tr><td>2.898852e6</td><td>&quot;Active&quot;</td><td>&quot;Y&quot;</td><td>&quot;00&quot;</td><td>&quot;1&quot;</td></tr></tbody></table></div>"
      ],
      "text/plain": [
       "shape: (2, 5)\n",
       "┌────────────┬────────────────────┬───────────────┬───────────┬───────────────┐\n",
       "│ IID        ┆ CustomerStatusCode ┆ SPEC_INCL_LIN ┆ MatchCode ┆ Territory     │\n",
       "│ ---        ┆ ---                ┆ ---           ┆ ---       ┆ ---           │\n",
       "│ f64        ┆ str                ┆ str           ┆ str       ┆ str           │\n",
       "╞════════════╪════════════════════╪═══════════════╪═══════════╪═══════════════╡\n",
       "│ 2.414757e6 ┆ Active             ┆ Y             ┆ 00        ┆ 1111-20102-11 │\n",
       "│ 2.898852e6 ┆ Active             ┆ Y             ┆ 00        ┆ 1             │\n",
       "└────────────┴────────────────────┴───────────────┴───────────┴───────────────┘"
      ]
     },
     "execution_count": 37,
     "metadata": {},
     "output_type": "execute_result"
    }
   ],
   "source": [
    "sasmp.filter(pl.col('IID').is_in([2414757,2898852]))[['IID','CustomerStatusCode','SPEC_INCL_LIN','MatchCode','Territory']]"
   ]
  },
  {
   "cell_type": "code",
   "execution_count": null,
   "id": "d2f082a6-7c59-4af9-aa0b-ecffe7a45373",
   "metadata": {},
   "outputs": [],
   "source": []
  }
 ],
 "metadata": {
  "kernelspec": {
   "display_name": "Python 3 (ipykernel)",
   "language": "python",
   "name": "python3"
  },
  "language_info": {
   "codemirror_mode": {
    "name": "ipython",
    "version": 3
   },
   "file_extension": ".py",
   "mimetype": "text/x-python",
   "name": "python",
   "nbconvert_exporter": "python",
   "pygments_lexer": "ipython3",
   "version": "3.10.14"
  }
 },
 "nbformat": 4,
 "nbformat_minor": 5
}
