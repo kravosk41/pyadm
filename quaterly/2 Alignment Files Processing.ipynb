{
 "cells": [
  {
   "cell_type": "markdown",
   "id": "c53a66ea-2fa2-4ecc-8924-a183a6b093e6",
   "metadata": {},
   "source": [
    "# Quaterly Alignment File"
   ]
  },
  {
   "cell_type": "code",
   "execution_count": 1,
   "id": "c78e6879-1cf0-4a81-b9c2-77d79d0dde76",
   "metadata": {
    "jupyter": {
     "source_hidden": true
    }
   },
   "outputs": [],
   "source": [
    "import pandas as pd\n",
    "import polars as pl\n",
    "import numpy as np"
   ]
  },
  {
   "cell_type": "code",
   "execution_count": 2,
   "id": "126b14cc-3185-49d3-adf0-3574dbf44d2e",
   "metadata": {},
   "outputs": [],
   "source": [
    "# Update Variables - \n",
    "QTR\t= '2024Q4'\n",
    "QTRP = '2024Q3'\n",
    "UPDATE = '20240812'\n",
    "\n",
    "FILE1= '2024_Q4_Final_Alignment_ZIP_Terr_formatted'\n",
    "SHEET1='2024_Q4_Final_Alignment_ZIP_Ter'\n",
    "FILE2='Hierarchy 2024Q4 93 Territories_formatted'\n",
    "SHEET2='Hierarchy'\n",
    "\n",
    "ZIP = f's3://vortex-staging-a65ced90/PYADM/quaterly/{QTR}/geography/'\n",
    "#ZIP_P = f's3://vortex-staging-a65ced90/PYADM/quaterly/{QTRP}/geography/'"
   ]
  },
  {
   "cell_type": "code",
   "execution_count": 3,
   "id": "57215114-1d52-4866-abae-2dea9f17c016",
   "metadata": {
    "jupyter": {
     "source_hidden": true
    }
   },
   "outputs": [],
   "source": [
    "# Importing Raw FILE - \n",
    "ZIP_DF = pl.from_pandas(pd.read_excel(\n",
    "    f's3://vortex-staging-a65ced90/PYADM/raw/{UPDATE}/quaterly_raw/{FILE1}.xlsx',\n",
    "    sheet_name= SHEET1\n",
    "))\n",
    "\n",
    "HIERARCHY_DF = pl.from_pandas(pd.read_excel(\n",
    "    f's3://vortex-staging-a65ced90/PYADM/raw/{UPDATE}/quaterly_raw/{FILE2}.xlsx',\n",
    "    sheet_name= SHEET2\n",
    "))"
   ]
  },
  {
   "cell_type": "markdown",
   "id": "27f2fb61-094c-4754-b219-5ec3b52a0419",
   "metadata": {},
   "source": [
    "HIERARCHY - "
   ]
  },
  {
   "cell_type": "code",
   "execution_count": 4,
   "id": "fb831c4f-6102-4f60-874f-6e5d25481571",
   "metadata": {
    "jupyter": {
     "source_hidden": true
    }
   },
   "outputs": [],
   "source": [
    "# Processing - \n",
    "HIERARCHY1 = (\n",
    "    HIERARCHY_DF\n",
    "    .filter(\n",
    "        (~pl.col('Territory_ID').is_in(['1111-99999-99','1111-99999-11'])) & (pl.col('Territory_ID').is_not_null())\n",
    "    )\n",
    "    .rename({'Territory_ID':'Territory'})\n",
    ")\n",
    "\n",
    "# EXPORT - \n",
    "HIERARCHY1.to_pandas().to_parquet(f'{ZIP}hierarchy.parquet')"
   ]
  },
  {
   "cell_type": "markdown",
   "id": "0697cfec-f643-46ef-8694-1f59cc41d9d4",
   "metadata": {},
   "source": [
    "ZIP TO TERR -"
   ]
  },
  {
   "cell_type": "code",
   "execution_count": 7,
   "id": "d5879f9d-7523-4c32-a7fb-02f0db64d4c7",
   "metadata": {
    "jupyter": {
     "source_hidden": true
    }
   },
   "outputs": [],
   "source": [
    "# Processing - \n",
    "# Should contain no dups - \n",
    "HIERARCHY_DF = HIERARCHY_DF.unique(subset = ['Territory_ID'])\n",
    "\n",
    "ZTT_TO_TERR = (\n",
    "   ZIP_DF.join(HIERARCHY_DF,on = 'Territory_ID',how = 'left')\n",
    "    .with_columns(pl.col(\"Zip_Code\").cast(pl.Utf8).str.zfill(5).alias(\"ZIP1\"))\n",
    "    .rename({'ZIP1' : 'Zip', 'Territory_ID' : 'Territory'})\n",
    "    .select(['Zip' ,'Territory' ,'Territory_Name' ,'Region' ,'Region_Name', 'Area', 'Area_Name'])\n",
    "    .unique(subset = 'Zip')\n",
    ")\n",
    "\n",
    "# Export - \n",
    "ZTT_TO_TERR.to_pandas().to_parquet(f'{ZIP}zip_to_terr.parquet')"
   ]
  }
 ],
 "metadata": {
  "kernelspec": {
   "display_name": "Python 3 (ipykernel)",
   "language": "python",
   "name": "python3"
  },
  "language_info": {
   "codemirror_mode": {
    "name": "ipython",
    "version": 3
   },
   "file_extension": ".py",
   "mimetype": "text/x-python",
   "name": "python",
   "nbconvert_exporter": "python",
   "pygments_lexer": "ipython3",
   "version": "3.10.14"
  }
 },
 "nbformat": 4,
 "nbformat_minor": 5
}
