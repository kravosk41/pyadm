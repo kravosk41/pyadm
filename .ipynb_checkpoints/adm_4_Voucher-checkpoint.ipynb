{
 "cells": [
  {
   "cell_type": "markdown",
   "id": "891336ef-76c8-439f-8f43-9ea9d1ac4604",
   "metadata": {},
   "source": [
    "Import Libraries"
   ]
  },
  {
   "cell_type": "code",
   "execution_count": 6,
   "id": "a3c149ae-c495-4445-9d61-b4493739f167",
   "metadata": {},
   "outputs": [],
   "source": [
    "import pandas as pd\n",
    "import datetime\n",
    "from datetime import datetime, timedelta\n",
    "import os\n",
    "import polars as pl\n",
    "import gc\n",
    "import numpy as np\n",
    "\n",
    "import s3fs\n",
    "import boto3\n",
    "from io import BytesIO as bo"
   ]
  },
  {
   "cell_type": "markdown",
   "id": "4a25041e-ca3b-4afc-b336-1c19d04d4f84",
   "metadata": {},
   "source": [
    "Calculate Date Variables"
   ]
  },
  {
   "cell_type": "code",
   "execution_count": 7,
   "id": "6c8777fc-d2d7-40f5-9d78-40fdeae1e283",
   "metadata": {},
   "outputs": [],
   "source": [
    "#variables -\n",
    "this_day = datetime.today()\n",
    "### FOR TESTING - REMOVE LATER ### \n",
    "this_day = this_day - timedelta(days=7)\n",
    "####\n",
    "days_to_monday = (this_day.weekday() - 0) % 7\n",
    "monday = this_day - timedelta(days=days_to_monday)\n",
    "\n",
    "CUR_PROC_WK = monday.strftime(\"%Y%m%d\")\n",
    "\n",
    "PRE_PROC_WK0 = monday - timedelta(days=7)\n",
    "PRE_PROC_WK = str(PRE_PROC_WK0.year) + str(PRE_PROC_WK0.month).zfill(2) + str(PRE_PROC_WK0.day).zfill(2)\n",
    "\n",
    "CUR_WK0 = monday - timedelta(days=17)\n",
    "CUR_WK = str(CUR_WK0.year) + str(CUR_WK0.month).zfill(2) + str(CUR_WK0.day).zfill(2)\n",
    "\n",
    "PRE_WK0 = monday - timedelta(days=24)\n",
    "PRE_WK = PRE_WK0.strftime(\"%Y%m%d\")\n"
   ]
  },
  {
   "cell_type": "code",
   "execution_count": 9,
   "id": "9c4b0fed-34ef-431b-9fcc-3535d9708ff9",
   "metadata": {},
   "outputs": [],
   "source": [
    "# Grabbing IW Release File \n",
    "s3 = s3fs.S3FileSystem()\n",
    "bucket_list = s3.listdir(f'vortex-staging-a65ced90/PYADM/raw/{CUR_PROC_WK}/inbound/')\n",
    "for file in bucket_list:\n",
    "    if (file['Key'].__contains__(f\"IRWD_RELEASE_WKLY_{CUR_PROC_WK}\")):\n",
    "        release_file = file['Key']\n",
    "\n",
    "# Reading Release File -\n",
    "s3_client = boto3.client('s3')\n",
    "bucket = release_file.split('/')[0]\n",
    "file_key = release_file.split('/',1)[1]\n",
    "\n",
    "adm = pd.read_csv(f's3://{bucket}/{file_key}',sep='|')\n",
    "adm1 = adm[CUR_PROC_WK].tolist()\n",
    "\n",
    "for item in adm1:\n",
    "    if item.startswith('P_OUT_110_VZVOUCHER_'):\n",
    "        VCH_TIMESTAMP = item.split('_')[-1].split('.')[0]\n",
    "    elif item.startswith('P_OUT_110_IRWD_PERIOD_'):\n",
    "        PERIOD_TIMESTAMP = item.split('_')[-1].split('.')[0]"
   ]
  },
  {
   "cell_type": "code",
   "execution_count": 164,
   "id": "b8e31a62-401d-4402-8fba-d70cf22f3145",
   "metadata": {},
   "outputs": [],
   "source": [
    "#temp \n",
    "bucket = 'vortex-staging-a65ced90'\n",
    "VCH_TIMESTAMP = '20240702071107'\n",
    "PERIOD_TIMESTAMP = '20240702071107'"
   ]
  },
  {
   "cell_type": "markdown",
   "id": "2fb5d2f1-00d9-4399-87f9-c3d0040e4724",
   "metadata": {},
   "source": [
    "Library Names and Paths"
   ]
  },
  {
   "cell_type": "code",
   "execution_count": 165,
   "id": "f45f034c-85a7-4455-8455-be5682720237",
   "metadata": {},
   "outputs": [],
   "source": [
    "raw_path = f'PYADM/raw/{CUR_PROC_WK}/inbound/'\n",
    "curwk = f'PYADM/raw/{CUR_PROC_WK}/dataframes/'\n",
    "prewk = f'PYADM/raw/{PRE_PROC_WK}/dataframes/'\n",
    "wkxpn = 'PYADM/weekly/staging/xponent/'\n",
    "mthxpn = 'PYADM/monthly/staging/xponent/'\n",
    "pwkxpn = f'PYADM/weekly/archive/{PRE_WK}/xponent/'"
   ]
  },
  {
   "cell_type": "code",
   "execution_count": 166,
   "id": "b62a830d-e270-47be-b93b-f43224dddb70",
   "metadata": {},
   "outputs": [],
   "source": [
    "VOUCHER = pd.read_csv(\n",
    "    f's3://{bucket}/{raw_path}P_OUT_110_VZVOUCHER_{VCH_TIMESTAMP}.TXT',delimiter=',',parse_dates=[2]\n",
    ")\n",
    "PERIOD = pd.read_csv(\n",
    "    f's3://{bucket}/{raw_path}P_OUT_110_IRWD_PERIOD_{PERIOD_TIMESTAMP}.TXT',delimiter='|',parse_dates=[0,1,3,5]\n",
    ")\n",
    "\n",
    "curwk_DATE_PARM_WK = pd.read_parquet(f's3://{bucket}/{curwk}curwk_DATE_PARM_WK.parquet')\n",
    "curwk_DATE_PARM_MTH = pd.read_parquet(f's3://{bucket}/{curwk}curwk_DATE_PARM_MTH.parquet')\n"
   ]
  },
  {
   "cell_type": "code",
   "execution_count": 167,
   "id": "05c204a2-3215-4b20-9988-b5eeecb233a7",
   "metadata": {},
   "outputs": [],
   "source": [
    "#VOUCHER_pl.write_parquet(curwk+'\\\\VOUCHER.parquet',compression='zstd',compression_level=10,use_pyarrow=True) # This is for First WK IC code\n",
    "VOUCHER.to_parquet(f's3://{bucket}/{curwk}VOUCHER.parquet',compression='snappy')"
   ]
  },
  {
   "cell_type": "code",
   "execution_count": 168,
   "id": "dd2e8245-2656-40ac-9a3c-28154ed1628c",
   "metadata": {},
   "outputs": [
    {
     "name": "stdout",
     "output_type": "stream",
     "text": [
      "QC : If more than 3 prods received , check raw data! - \n",
      "47711 - 00000033\n",
      "47711 - 00000035\n",
      "47711 - 00000034\n"
     ]
    }
   ],
   "source": [
    "print(\"QC : If more than 3 prods received , check raw data! - \")\n",
    "prods_qc = VOUCHER['GROUP_ID'].unique()\n",
    "for x in prods_qc:\n",
    "    print(x)"
   ]
  },
  {
   "cell_type": "code",
   "execution_count": 169,
   "id": "c4973da9-d7fc-4c4b-bfe3-bf3b8bb8e8a8",
   "metadata": {},
   "outputs": [
    {
     "name": "stdout",
     "output_type": "stream",
     "text": [
      "18.1: Check if WEEK_ENDING_DATE is blank records\n"
     ]
    },
    {
     "data": {
      "text/html": [
       "<div>\n",
       "<style scoped>\n",
       "    .dataframe tbody tr th:only-of-type {\n",
       "        vertical-align: middle;\n",
       "    }\n",
       "\n",
       "    .dataframe tbody tr th {\n",
       "        vertical-align: top;\n",
       "    }\n",
       "\n",
       "    .dataframe thead th {\n",
       "        text-align: right;\n",
       "    }\n",
       "</style>\n",
       "<table border=\"1\" class=\"dataframe\">\n",
       "  <thead>\n",
       "    <tr style=\"text-align: right;\">\n",
       "      <th></th>\n",
       "      <th>WEEK_ENDING_DATE</th>\n",
       "      <th>FREQUENCY</th>\n",
       "    </tr>\n",
       "  </thead>\n",
       "  <tbody>\n",
       "    <tr>\n",
       "      <th>121</th>\n",
       "      <td>2024-05-17</td>\n",
       "      <td>43</td>\n",
       "    </tr>\n",
       "    <tr>\n",
       "      <th>122</th>\n",
       "      <td>2024-05-24</td>\n",
       "      <td>39</td>\n",
       "    </tr>\n",
       "    <tr>\n",
       "      <th>123</th>\n",
       "      <td>2024-05-31</td>\n",
       "      <td>20</td>\n",
       "    </tr>\n",
       "    <tr>\n",
       "      <th>124</th>\n",
       "      <td>2024-06-07</td>\n",
       "      <td>43</td>\n",
       "    </tr>\n",
       "    <tr>\n",
       "      <th>125</th>\n",
       "      <td>2024-06-14</td>\n",
       "      <td>60</td>\n",
       "    </tr>\n",
       "  </tbody>\n",
       "</table>\n",
       "</div>"
      ],
      "text/plain": [
       "    WEEK_ENDING_DATE  FREQUENCY\n",
       "121       2024-05-17         43\n",
       "122       2024-05-24         39\n",
       "123       2024-05-31         20\n",
       "124       2024-06-07         43\n",
       "125       2024-06-14         60"
      ]
     },
     "execution_count": 169,
     "metadata": {},
     "output_type": "execute_result"
    }
   ],
   "source": [
    "print(\"18.1: Check if WEEK_ENDING_DATE is blank records\")\n",
    "frequency_table = VOUCHER.groupby(['WEEK_ENDING_DATE']).size().reset_index(name='FREQUENCY')\n",
    "frequency_table.tail(5)"
   ]
  },
  {
   "cell_type": "code",
   "execution_count": 170,
   "id": "56996c16-1a56-41ca-9448-082013588bf3",
   "metadata": {},
   "outputs": [],
   "source": [
    "VOUCHER_PERIOD_wk = VOUCHER.merge(PERIOD[['PERIOD_KEY','WK_END_DATE']],left_on = 'WEEK_ENDING_DATE',right_on = 'PERIOD_KEY',how='inner') #inner?\n",
    "VOUCHER_PERIOD_wk = VOUCHER_PERIOD_wk.rename(columns={'FACTORED_TRX':'TUF'})\n",
    "VOUCHER_PERIOD_wk = VOUCHER_PERIOD_wk.drop(columns=['WEEK_ENDING_DATE','PERIOD_KEY'])\n",
    "VOUCHER_PERIOD_wk_dt = VOUCHER_PERIOD_wk.merge(curwk_DATE_PARM_WK,on='WK_END_DATE',how='inner') #inner?\n",
    "VOUCHER_PERIOD_wk_dt = VOUCHER_PERIOD_wk_dt.drop(columns='WK_END_DATE') #After Week number is attained , drop date \n",
    "VOUCHER_PERIOD_wk_dt = pl.from_pandas(VOUCHER_PERIOD_wk_dt) # converting to poalrs for easy actions \n",
    "VOUCHER_PERIOD_wk_dt = VOUCHER_PERIOD_wk_dt.filter(pl.col('GROUP_ID').is_in([\"47711 - 00000033\", \"47711 - 00000034\", \"47711 - 00000035\"]))\n",
    "VOUCHER_PERIOD_wk_dt = VOUCHER_PERIOD_wk_dt.filter(pl.col('TUF')>0)"
   ]
  },
  {
   "cell_type": "code",
   "execution_count": 171,
   "id": "a115841b-9238-4312-bc09-c60342357996",
   "metadata": {},
   "outputs": [],
   "source": [
    "VOUCHER_1 = pl.DataFrame()\n",
    "VOUCHER_1 = VOUCHER_PERIOD_wk_dt.group_by(['IID','GROUP_ID','I']).agg(pl.col(\"TUF\").sum())\n",
    "VOUCHER_2 = VOUCHER_PERIOD_wk_dt.group_by(['IID','I']).agg(pl.col(\"TUF\").sum())"
   ]
  },
  {
   "cell_type": "code",
   "execution_count": 172,
   "id": "c5199d20-a3f3-4231-8e19-85f5dc17ccf3",
   "metadata": {},
   "outputs": [],
   "source": [
    "VOU_145 = VOUCHER_1.filter(pl.col('GROUP_ID')=='47711 - 00000033')\n",
    "VOU_290 = VOUCHER_1.filter(pl.col('GROUP_ID')=='47711 - 00000034')\n",
    "VOU_72 = VOUCHER_1.filter(pl.col('GROUP_ID')=='47711 - 00000035')\n",
    "\n",
    "VOU_145_P = VOU_145.pivot(values = 'TUF', index = 'IID', columns = 'I', aggregate_function = None, sort_columns = True)\n",
    "VOU_145_P = VOU_145_P.select(['IID'] + sorted([col for col in VOU_145_P.columns if col != 'IID'], key = lambda col:int(col)))\n",
    "VOU_145_P.columns = ['LIN1TUF' + str(col) if col != 'IID' else col for col in VOU_145_P.columns]\n",
    "\n",
    "VOU_290_P = VOU_290.pivot(values = 'TUF', index = 'IID', columns = 'I', aggregate_function = None, sort_columns = True)\n",
    "VOU_290_P = VOU_290_P.select(['IID'] + sorted([col for col in VOU_290_P.columns if col != 'IID'], key = lambda col:int(col)))\n",
    "VOU_290_P.columns = ['LIN2TUF' + str(col) if col != 'IID' else col for col in VOU_290_P.columns]\n",
    "\n",
    "VOU_72_P = VOU_72.pivot(values = 'TUF', index = 'IID', columns = 'I', aggregate_function = None, sort_columns = True)\n",
    "VOU_72_P = VOU_72_P.select(['IID'] + sorted([col for col in VOU_72_P.columns if col != 'IID'], key = lambda col:int(col)))\n",
    "VOU_72_P.columns = ['LIN3TUF' + str(col) if col != 'IID' else col for col in VOU_72_P.columns]"
   ]
  },
  {
   "cell_type": "code",
   "execution_count": 173,
   "id": "d5528fec-fe4e-49df-ad22-d58bea8db19c",
   "metadata": {},
   "outputs": [],
   "source": [
    "VOU_LINV = VOUCHER_2.pivot(values = 'TUF', index = 'IID', columns = 'I', aggregate_function = None, sort_columns = True)\n",
    "VOU_LINV = VOU_LINV.select(['IID'] + sorted([col for col in VOU_LINV.columns if col != 'IID'], key = lambda col:int(col)))\n",
    "VOU_LINV.columns = ['LINVTUF' + str(col) if col != 'IID' else col for col in VOU_LINV.columns]"
   ]
  },
  {
   "cell_type": "code",
   "execution_count": 174,
   "id": "4ac04090-f113-4aad-be52-26f40df8f0db",
   "metadata": {},
   "outputs": [],
   "source": [
    "LIN_VOUCHER = VOU_145_P.join(VOU_290_P,on='IID',how='outer_coalesce')\n",
    "LIN_VOUCHER = LIN_VOUCHER.join(VOU_72_P,on='IID',how='outer_coalesce')\n",
    "LIN_VOUCHER = LIN_VOUCHER.join(VOU_LINV,on='IID',how='outer_coalesce')"
   ]
  },
  {
   "cell_type": "code",
   "execution_count": 182,
   "id": "96b8c6d4-fc74-4a95-a04f-23496681d46c",
   "metadata": {},
   "outputs": [],
   "source": [
    "full_column_list = ['IID'] + [f'LIN1TUF{i}' for i in range(1,106)] + [f'LIN2TUF{i}' for i in range(1,106)] + [f'LIN3TUF{i}' for i in range(1,106)] + [f'LINVTUF{i}' for i in range(1,106)]"
   ]
  },
  {
   "cell_type": "code",
   "execution_count": 189,
   "id": "d09077b1-07e9-4996-beaf-52f22963a310",
   "metadata": {},
   "outputs": [],
   "source": [
    "# QC :\n",
    "for col in full_column_list:\n",
    "    if col not in LIN_VOUCHER.columns:\n",
    "        print(col)\n",
    "        LIN_VOUCHER = LIN_VOUCHER.with_columns(pl.lit(0).alias(col))"
   ]
  },
  {
   "cell_type": "code",
   "execution_count": 190,
   "id": "49ee480c-8f05-4e89-8db6-2da2365161b2",
   "metadata": {},
   "outputs": [],
   "source": [
    "#export \n",
    "#LIN_VOUCHER.write_parquet(wkxpn+'\\\\LIN_VOUCHER.parquet',compression='zstd',compression_level=10,use_pyarrow=True)\n",
    "LIN_VOUCHER.to_pandas().to_parquet(f's3://{bucket}/{wkxpn}LIN_VOUCHER.parquet', compression='snappy')"
   ]
  },
  {
   "cell_type": "markdown",
   "id": "21962f3e-b95b-4544-9b85-6573bd6db981",
   "metadata": {},
   "source": [
    "## Monthly"
   ]
  },
  {
   "cell_type": "code",
   "execution_count": 191,
   "id": "c50bb93d-afb2-41b9-976e-cb201505e27e",
   "metadata": {},
   "outputs": [],
   "source": [
    "VOUCHER_m = VOUCHER.copy()\n",
    "\n",
    "VOUCHER_m['MTH_END_DATE'] = VOUCHER_m['WEEK_ENDING_DATE'].dt.strftime('%Y%m')\n",
    "\n",
    "VOUCHER_m = VOUCHER_m.merge(curwk_DATE_PARM_MTH[['I','CCYYMM']],left_on = 'MTH_END_DATE',right_on = 'CCYYMM',how='inner') #inner?\n",
    "\n",
    "VOUCHER_m = VOUCHER_m.rename(columns={'FACTORED_TRX':'TUF'})\n",
    "\n",
    "VOUCHER_m = VOUCHER_m.drop(columns=['WEEK_ENDING_DATE','MTH_END_DATE','CCYYMM']) #After Week number is attained , drop date "
   ]
  },
  {
   "cell_type": "code",
   "execution_count": 192,
   "id": "9662da7f-0033-488f-ac9a-76ac392e4973",
   "metadata": {},
   "outputs": [],
   "source": [
    "VOUCHER_m = pl.from_pandas(VOUCHER_m) # converting to poalrs for easy actions \n",
    "VOUCHER_m = VOUCHER_m.filter(pl.col('GROUP_ID').is_in([\"47711 - 00000033\", \"47711 - 00000034\", \"47711 - 00000035\"]))\n",
    "VOUCHER_m = VOUCHER_m.filter(pl.col('TUF')>0)"
   ]
  },
  {
   "cell_type": "code",
   "execution_count": 193,
   "id": "5819a961-0778-4c46-9cc5-a5fb75316d17",
   "metadata": {},
   "outputs": [],
   "source": [
    "VOUCHER_1 = pl.DataFrame()\n",
    "VOUCHER_1 = VOUCHER_m.group_by(['IID','GROUP_ID','I']).agg(pl.col(\"TUF\").sum())\n",
    "VOUCHER_2 = VOUCHER_m.group_by(['IID','I']).agg(pl.col(\"TUF\").sum())"
   ]
  },
  {
   "cell_type": "code",
   "execution_count": 194,
   "id": "fc7020b5-d55c-4307-9683-eab9747f61fd",
   "metadata": {},
   "outputs": [],
   "source": [
    "VOU_145 = VOUCHER_1.filter(pl.col('GROUP_ID')=='47711 - 00000033')\n",
    "VOU_290 = VOUCHER_1.filter(pl.col('GROUP_ID')=='47711 - 00000034')\n",
    "VOU_72 = VOUCHER_1.filter(pl.col('GROUP_ID')=='47711 - 00000035')\n",
    "\n",
    "VOU_145_P = VOU_145.pivot(values = 'TUF', index = 'IID', columns = 'I', aggregate_function = None, sort_columns = True)\n",
    "VOU_145_P = VOU_145_P.select(['IID'] + sorted([col for col in VOU_145_P.columns if col != 'IID'], key = lambda col:int(col)))\n",
    "VOU_145_P.columns = ['LIN1TUF' + str(col) if col != 'IID' else col for col in VOU_145_P.columns]\n",
    "\n",
    "VOU_290_P = VOU_290.pivot(values = 'TUF', index = 'IID', columns = 'I', aggregate_function = None, sort_columns = True)\n",
    "VOU_290_P = VOU_290_P.select(['IID'] + sorted([col for col in VOU_290_P.columns if col != 'IID'], key = lambda col:int(col)))\n",
    "VOU_290_P.columns = ['LIN2TUF' + str(col) if col != 'IID' else col for col in VOU_290_P.columns]\n",
    "\n",
    "VOU_72_P = VOU_72.pivot(values = 'TUF', index = 'IID', columns = 'I', aggregate_function = None, sort_columns = True)\n",
    "VOU_72_P = VOU_72_P.select(['IID'] + sorted([col for col in VOU_72_P.columns if col != 'IID'], key = lambda col:int(col)))\n",
    "VOU_72_P.columns = ['LIN3TUF' + str(col) if col != 'IID' else col for col in VOU_72_P.columns]"
   ]
  },
  {
   "cell_type": "code",
   "execution_count": 195,
   "id": "1a8493f8-f12c-4b70-8aa4-cba046a1474e",
   "metadata": {},
   "outputs": [],
   "source": [
    "VOU_LINV = VOUCHER_2.pivot(values = 'TUF', index = 'IID', columns = 'I', aggregate_function = None, sort_columns = True)\n",
    "VOU_LINV = VOU_LINV.select(['IID'] + sorted([col for col in VOU_LINV.columns if col != 'IID'], key = lambda col:int(col)))\n",
    "VOU_LINV.columns = ['LINVTUF' + str(col) if col != 'IID' else col for col in VOU_LINV.columns]"
   ]
  },
  {
   "cell_type": "code",
   "execution_count": 196,
   "id": "62df0f3a-e58f-4fc1-8596-cbd47f597d08",
   "metadata": {},
   "outputs": [],
   "source": [
    "LIN_VOUCHER = VOU_145_P.join(VOU_290_P,on='IID',how='outer_coalesce')\n",
    "LIN_VOUCHER = LIN_VOUCHER.join(VOU_72_P,on='IID',how='outer_coalesce')\n",
    "LIN_VOUCHER = LIN_VOUCHER.join(VOU_LINV,on='IID',how='outer_coalesce')"
   ]
  },
  {
   "cell_type": "code",
   "execution_count": 200,
   "id": "99026738-55a8-4352-b1aa-47146fa44452",
   "metadata": {},
   "outputs": [],
   "source": [
    "#Export \n",
    "#LIN_VOUCHER.write_parquet(mthxpn+'\\\\LIN_VOUCHER.parquet',compression='zstd',compression_level=10,use_pyarrow=True)\n",
    "LIN_VOUCHER.to_pandas().to_parquet(f's3://{bucket}/{mthxpn}LIN_VOUCHER.parquet', compression='snappy')"
   ]
  }
 ],
 "metadata": {
  "kernelspec": {
   "display_name": "Python 3 (ipykernel)",
   "language": "python",
   "name": "python3"
  },
  "language_info": {
   "codemirror_mode": {
    "name": "ipython",
    "version": 3
   },
   "file_extension": ".py",
   "mimetype": "text/x-python",
   "name": "python",
   "nbconvert_exporter": "python",
   "pygments_lexer": "ipython3",
   "version": "3.10.14"
  }
 },
 "nbformat": 4,
 "nbformat_minor": 5
}
