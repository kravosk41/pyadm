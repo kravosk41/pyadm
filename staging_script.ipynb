{
 "cells": [
  {
   "cell_type": "markdown",
   "id": "9c8f2e09-6cdf-49b9-b88a-3ba08609044b",
   "metadata": {},
   "source": [
    "### Script to move weekly staging folder to arhive\n",
    "- note : this moves the data | does not copy it !"
   ]
  },
  {
   "cell_type": "code",
   "execution_count": 1,
   "id": "5ecb93ef-0b52-4766-a804-f1cea10f7561",
   "metadata": {},
   "outputs": [],
   "source": [
    "import s3fs\n",
    "from datetime import datetime, timedelta\n",
    "s3_fs = s3fs.S3FileSystem()\n",
    "\n",
    "### Date Automation\n",
    "this_day = datetime.today()\n",
    "days_to_monday = (this_day.weekday() - 0) % 7\n",
    "monday = this_day - timedelta(days=days_to_monday)\n",
    "CUR_WK0 = monday - timedelta(days=17)\n",
    "CUR_WK = str(CUR_WK0.year) + str(CUR_WK0.month).zfill(2) + str(CUR_WK0.day).zfill(2)"
   ]
  },
  {
   "cell_type": "markdown",
   "id": "c5067093-83e3-4c44-b06c-49c4c3e20889",
   "metadata": {},
   "source": [
    "Folder to which data is being moved to :"
   ]
  },
  {
   "cell_type": "code",
   "execution_count": 2,
   "id": "231de7ee-3452-45d3-9705-6f13635a9f93",
   "metadata": {},
   "outputs": [],
   "source": [
    "CUR_WK = '20240712'"
   ]
  },
  {
   "cell_type": "code",
   "execution_count": 3,
   "id": "19ffdb67-1266-4280-aad0-40f4b3b036f6",
   "metadata": {},
   "outputs": [],
   "source": [
    "s = 's3://vortex-staging-a65ced90/PYADM/weekly/staging/'\n",
    "d = f's3://vortex-staging-a65ced90/PYADM/weekly/archive/{CUR_WK}/'\n",
    "s3_fs.mv(s, d, recursive=True)"
   ]
  },
  {
   "cell_type": "code",
   "execution_count": 4,
   "id": "20cc9596-079b-4f08-97a5-da5fd665e6dd",
   "metadata": {},
   "outputs": [],
   "source": [
    "# s = 's3://vortex-staging-a65ced90/PYADM/weekly/staging/xponent/LIN_VOUCHER.parquet'\n",
    "# d = f's3://vortex-staging-a65ced90/PYADM/weekly/archive/20240614/xponent/'\n",
    "# s3_fs.mv(s, d, recursive=True)"
   ]
  },
  {
   "cell_type": "markdown",
   "id": "92c6c842-fb8c-4158-9a15-65c429ca2eb9",
   "metadata": {},
   "source": [
    "---"
   ]
  },
  {
   "cell_type": "markdown",
   "id": "de505a9b-e966-4fea-8736-8e44290f808d",
   "metadata": {},
   "source": [
    "### To move contents of monthly folder to archive\n",
    "- new month to be made after finishing xpn for current month!"
   ]
  },
  {
   "cell_type": "code",
   "execution_count": 5,
   "id": "42d660f5-abf8-4b5d-9489-7e05ca8605e0",
   "metadata": {},
   "outputs": [],
   "source": [
    "month = '202406'"
   ]
  },
  {
   "cell_type": "code",
   "execution_count": 6,
   "id": "7fddddde-da48-45ef-9440-f3547f00ad76",
   "metadata": {},
   "outputs": [],
   "source": [
    "m_c = 'vortex-staging-a65ced90/PYADM/monthly/staging/calls_samples/'\n",
    "m_r = 'vortex-staging-a65ced90/PYADM/monthly/staging/reference/'\n",
    "m_x = 'vortex-staging-a65ced90/PYADM/monthly/staging/xponent/'\n",
    "\n",
    "ma_c = f'vortex-staging-a65ced90/PYADM/monthly/archive/{month}/calls_samples/'\n",
    "ma_r = f'vortex-staging-a65ced90/PYADM/monthly/archive/{month}/reference/'\n",
    "ma_x = f'vortex-staging-a65ced90/PYADM/monthly/archive/{month}/xponent/'\n",
    "\n",
    "#work array\n",
    "wa = [[m_c,ma_c],[m_r,ma_r],[m_x,ma_x]]\n",
    "\n",
    "for i in wa:\n",
    "    s3_fs.mv(i[0], i[1], recursive=True)"
   ]
  },
  {
   "cell_type": "code",
   "execution_count": 7,
   "id": "125bbf62-4bb6-46ad-865a-749085ea9dd0",
   "metadata": {},
   "outputs": [],
   "source": [
    "# Plantrak not included !"
   ]
  }
 ],
 "metadata": {
  "kernelspec": {
   "display_name": "Python 3 (ipykernel)",
   "language": "python",
   "name": "python3"
  },
  "language_info": {
   "codemirror_mode": {
    "name": "ipython",
    "version": 3
   },
   "file_extension": ".py",
   "mimetype": "text/x-python",
   "name": "python",
   "nbconvert_exporter": "python",
   "pygments_lexer": "ipython3",
   "version": "3.10.14"
  }
 },
 "nbformat": 4,
 "nbformat_minor": 5
}
