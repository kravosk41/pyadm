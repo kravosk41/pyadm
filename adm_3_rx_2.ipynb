{
 "cells": [
  {
   "cell_type": "markdown",
   "id": "f317de0a-310f-4897-ac88-af7b27d1bdfe",
   "metadata": {},
   "source": [
    "Import Libraries"
   ]
  },
  {
   "cell_type": "code",
   "execution_count": 1,
   "id": "0b52c2dd-2894-45c9-9062-02040027ed01",
   "metadata": {},
   "outputs": [],
   "source": [
    "import pandas as pd\n",
    "import datetime\n",
    "from datetime import datetime, timedelta\n",
    "import os\n",
    "import polars as pl\n",
    "import gc\n",
    "import numpy as np\n",
    "\n",
    "import s3fs\n",
    "import boto3\n",
    "from io import BytesIO as bo"
   ]
  },
  {
   "cell_type": "markdown",
   "id": "1b2f53e0-befb-43e5-be65-bbaf462c6cc2",
   "metadata": {},
   "source": [
    "Calculate Date Variables"
   ]
  },
  {
   "cell_type": "code",
   "execution_count": 2,
   "id": "d7234296-2321-4c6c-8cf0-142caa222418",
   "metadata": {},
   "outputs": [],
   "source": [
    "#variables -\n",
    "this_day = datetime.today()\n",
    "# ### FOR TESTING - REMOVE LATER ### \n",
    "this_day = this_day - timedelta(days=7)\n",
    "# ####\n",
    "days_to_monday = (this_day.weekday() - 0) % 7\n",
    "monday = this_day - timedelta(days=days_to_monday)\n",
    "\n",
    "CUR_PROC_WK = monday.strftime(\"%Y%m%d\")\n",
    "\n",
    "PRE_PROC_WK0 = monday - timedelta(days=7)\n",
    "PRE_PROC_WK = str(PRE_PROC_WK0.year) + str(PRE_PROC_WK0.month).zfill(2) + str(PRE_PROC_WK0.day).zfill(2)\n",
    "\n",
    "CUR_WK0 = monday - timedelta(days=17)\n",
    "CUR_WK = str(CUR_WK0.year) + str(CUR_WK0.month).zfill(2) + str(CUR_WK0.day).zfill(2)\n",
    "\n",
    "PRE_WK0 = monday - timedelta(days=24)\n",
    "PRE_WK = PRE_WK0.strftime(\"%Y%m%d\")\n"
   ]
  },
  {
   "cell_type": "code",
   "execution_count": 3,
   "id": "9cefb914-1e81-4eef-b4ab-9e1a3aed3ba8",
   "metadata": {},
   "outputs": [],
   "source": [
    "bucket = 'vortex-staging-a65ced90'"
   ]
  },
  {
   "cell_type": "markdown",
   "id": "e313e44a-b5f5-49dc-9726-fb79ab599160",
   "metadata": {},
   "source": [
    "Library Names and File Paths :"
   ]
  },
  {
   "cell_type": "code",
   "execution_count": 4,
   "id": "7f697254-7985-4066-9b4b-70efce7a99b1",
   "metadata": {},
   "outputs": [],
   "source": [
    "raw_path = f'PYADM/raw/{CUR_PROC_WK}/inbound/'\n",
    "curwk = f'PYADM/raw/{CUR_PROC_WK}/dataframes/'\n",
    "prewk = f'PYADM/raw/{PRE_PROC_WK}/dataframes/'\n",
    "wkxpn = 'PYADM/weekly/staging/xponent/'\n",
    "mthxpn = 'PYADM/monthly/staging/xponent/'\n",
    "pwkxpn = f'PYADM/weekly/archive/{PRE_WK}/xponent/'"
   ]
  },
  {
   "cell_type": "code",
   "execution_count": 5,
   "id": "ea41815f-1e2b-4dfe-9dc2-1b49cc29e5e4",
   "metadata": {},
   "outputs": [],
   "source": [
    "#Picking Up Data from Rx_1\n",
    "curwk_RX_PERIOD_WKSUM_CUR_WK = pl.read_parquet(f's3://{bucket}/{curwk}RX_PERIOD_WKSUM_CUR_WK.parquet')"
   ]
  },
  {
   "cell_type": "code",
   "execution_count": 6,
   "id": "d7707f00-2e85-4776-b82e-1a4c874a24f7",
   "metadata": {},
   "outputs": [
    {
     "data": {
      "text/plain": [
       "0"
      ]
     },
     "execution_count": 6,
     "metadata": {},
     "output_type": "execute_result"
    }
   ],
   "source": [
    "temp_WK_LAX = curwk_RX_PERIOD_WKSUM_CUR_WK.filter(pl.col(\"MKT_CD\")==\"LAX\")\n",
    "\n",
    "#temp_WK_LAX = temp_WK_LAX.with_columns(pl.col('ProductID').map_elements(lambda x: f\"{x:08}\",return_dtype = pl.datatypes.Utf8) \n",
    "#This approach was slower by 2 seconds\n",
    "\n",
    "def pad_with_zeros(val):\n",
    "    return str(val).zfill(8)\n",
    "\n",
    "temp_WK_LAX = temp_WK_LAX.with_columns(pl.col('ProductID').map_elements(pad_with_zeros,return_dtype=pl.String))\n",
    "del curwk_RX_PERIOD_WKSUM_CUR_WK\n",
    "gc.collect()"
   ]
  },
  {
   "cell_type": "code",
   "execution_count": 7,
   "id": "f8a3101b-487a-44a8-973f-eb3c990a569e",
   "metadata": {},
   "outputs": [],
   "source": [
    "temp_WK_LAX = temp_WK_LAX.drop(['ProductName','MKT_CD'])\n",
    "\n",
    "rename_items = {\n",
    "    'IronwoodID':'IID','ProductID':'PG_ID',\n",
    "    'TotalRx':'TRX','NewRx':'NRX',\n",
    "    'TotalQuantity':'TUN','NewQuantity':'NUN',\n",
    "    'TotalFactoredQuantity':'TUF','NewFactoredQuantity':'NUF'\n",
    "}\n",
    "\n",
    "temp_WK_LAX = temp_WK_LAX.rename(rename_items)"
   ]
  },
  {
   "cell_type": "code",
   "execution_count": 8,
   "id": "e305dd43-4de5-430e-b4e4-6762181b354f",
   "metadata": {},
   "outputs": [
    {
     "data": {
      "text/plain": [
       "0"
      ]
     },
     "execution_count": 8,
     "metadata": {},
     "output_type": "execute_result"
    }
   ],
   "source": [
    "std_sec_def = pl.read_parquet(f's3://{bucket}/PYADM/reference/std_sec_def.parquet')\n",
    "\n",
    "temp_WK_TMP_LAX = pl.DataFrame()\n",
    "temp_WK_TMP_LAX = temp_WK_LAX.join(std_sec_def,on='PG_ID',how='left')\n",
    "\n",
    "del temp_WK_LAX\n",
    "gc.collect()"
   ]
  },
  {
   "cell_type": "code",
   "execution_count": 9,
   "id": "84935a98-040a-4662-8609-90a682674025",
   "metadata": {},
   "outputs": [
    {
     "data": {
      "text/plain": [
       "0"
      ]
     },
     "execution_count": 9,
     "metadata": {},
     "output_type": "execute_result"
    }
   ],
   "source": [
    "#THIS MAY OR MAY NOT CRASH, CONSIDER REMOVING isNULL EXTRA CONDITION\n",
    "temp_WK_TMP1_LAX = temp_WK_TMP_LAX.filter((pl.col('PROD_CD')!='LIN') | (pl.col('PROD_CD').is_null()))\n",
    "del temp_WK_TMP_LAX\n",
    "gc.collect() #NEED TO EXPORT THIS !!!"
   ]
  },
  {
   "cell_type": "code",
   "execution_count": 10,
   "id": "16db96d7-36b6-49eb-918e-ac46479e48c9",
   "metadata": {},
   "outputs": [],
   "source": [
    "#temp_WK_TMP1_LAX.write_parquet(curwk+'\\\\temp_WK_TMP1_LAX.parquet',compression='zstd',compression_level=10,use_pyarrow=True)\n",
    "\n",
    "temp_WK_TMP1_LAX.to_pandas().to_parquet(f's3://{bucket}/{curwk}temp_WK_TMP1_LAX.parquet',compression='snappy')"
   ]
  },
  {
   "cell_type": "code",
   "execution_count": 11,
   "id": "df859de8-ad5c-4b4c-9e5a-5c02943042c3",
   "metadata": {},
   "outputs": [],
   "source": [
    "## FOR QC DELETE LATER\n",
    "#print(temp_WK_TMP_LAX.shape[0]-temp_WK_TMP1_LAX.shape[0])\n",
    "# print(set(temp_WK_TMP_LAX['PROD_CD'].unique())-set(temp_WK_TMP1_LAX['PROD_CD'].unique()))\n",
    "# print(len(temp_WK_TMP1_LAX['PROD_CD'].unique()))"
   ]
  },
  {
   "cell_type": "code",
   "execution_count": 12,
   "id": "4789ad04-3b30-4817-b778-52ec3714515a",
   "metadata": {},
   "outputs": [],
   "source": [
    "## NOTE-\n",
    "# Only passing through ChannelID 1 and 2 , lax_n for weekly and monthly are summerized \n",
    "# using temp_WK_TMP1_LAX\n",
    "# Note that NWAY MISSING is used in the summary step , i.e missing values are considered for aggreation"
   ]
  },
  {
   "cell_type": "code",
   "execution_count": 13,
   "id": "60c57bc9-7004-4895-9e6d-fbd00b5b7cf9",
   "metadata": {},
   "outputs": [],
   "source": [
    "#In the creation of lax_n only channel 1 and 2 are kept , but we dont really get any other info than that , this step \n",
    "# might be redundant\n",
    "fil_temp_WK_TMP1_LAX = temp_WK_TMP1_LAX.filter((temp_WK_TMP1_LAX['ChannelID'] == '1') | (temp_WK_TMP1_LAX['ChannelID'] == '2'))\n",
    "del temp_WK_TMP1_LAX"
   ]
  },
  {
   "cell_type": "code",
   "execution_count": 14,
   "id": "c505c4b7-edfa-47c0-9979-cbd8f8d540d0",
   "metadata": {},
   "outputs": [],
   "source": [
    "# Did this to check which columns had null values , will be replacing them by \"\" while summary\n",
    "# group_cols = ['IID','WK_END_DATE','CCYYMM','MKT_CD','MarketName','G_B','RO_TYPE','PFAM_CD','PFAM_NAME','PROD_NAME']\n",
    "# for col_name in group_cols:\n",
    "#     has_null = fil_temp_WK_TMP1_LAX[col_name].is_null().sum() > 0\n",
    "#     print(col_name,fil_temp_WK_TMP1_LAX[col_name].dtype,has_null)\n",
    "\n",
    "\n",
    "# NOTE : ALL NULL TYPE VALUES WILL BE REPLACED BY \"\" , DID NOT CODE IN COLUMN SPECIFIC RULES "
   ]
  },
  {
   "cell_type": "code",
   "execution_count": 15,
   "id": "2b633699-532c-4920-8449-7748b56355e8",
   "metadata": {},
   "outputs": [],
   "source": [
    "group_cols = ['IID','WK_END_DATE','MKT_CD','MarketName','G_B','RO_TYPE','PFAM_CD','PFAM_NAME','PROD_CD','PROD_NAME']\n",
    "sum_cols = ['TRX','NRX','TUN','NUN','TUF','NUF']\n",
    "\n",
    "# #perform groupby and calc function \n",
    "wkxpn_LAX_N = pl.DataFrame()\n",
    "wkxpn_LAX_N = fil_temp_WK_TMP1_LAX.fill_null(\"\").group_by(group_cols).agg(\n",
    "    [pl.col(c).sum() for c in sum_cols]\n",
    ")\n"
   ]
  },
  {
   "cell_type": "code",
   "execution_count": 16,
   "id": "193c7dc6-28bf-4573-b7a6-7a7c4d5796f4",
   "metadata": {},
   "outputs": [],
   "source": [
    "group_cols = ['IID','CCYYMM','MKT_CD','MarketName','G_B','RO_TYPE','PFAM_CD','PFAM_NAME','PROD_CD','PROD_NAME']\n",
    "sum_cols = ['TRX','NRX','TUN','NUN','TUF','NUF']\n",
    "\n",
    "# #perform groupby and calc function \n",
    "mthxpn_LAX_N = pl.DataFrame()\n",
    "mthxpn_LAX_N = fil_temp_WK_TMP1_LAX.fill_null(\"\").group_by(group_cols).agg(\n",
    "    [pl.col(c).sum() for c in sum_cols]\n",
    ")\n"
   ]
  },
  {
   "cell_type": "code",
   "execution_count": 19,
   "id": "9d861d90-98ab-4057-a5f3-9f4a32c36b5d",
   "metadata": {},
   "outputs": [],
   "source": [
    "# END OF 6th Code\n",
    "# Weekly and Monthly Level LAX_N datasets are ready \n",
    "#[Note They only Contain 105 Weeks worth of data]\n",
    "#Ask Team if Data is required to be Exported."
   ]
  },
  {
   "cell_type": "code",
   "execution_count": 18,
   "id": "9ad31941-ed3c-494c-84a2-caf812b6ef8e",
   "metadata": {},
   "outputs": [],
   "source": [
    "wkxpn_LAX_N.to_pandas().to_parquet(f's3://{bucket}/{curwk}wkxpn_LAX_N.parquet',compression='snappy')\n",
    "mthxpn_LAX_N.to_pandas().to_parquet(f's3://{bucket}/{curwk}mthxpn_LAX_N.parquet',compression='snappy')"
   ]
  }
 ],
 "metadata": {
  "kernelspec": {
   "display_name": "Python 3 (ipykernel)",
   "language": "python",
   "name": "python3"
  },
  "language_info": {
   "codemirror_mode": {
    "name": "ipython",
    "version": 3
   },
   "file_extension": ".py",
   "mimetype": "text/x-python",
   "name": "python",
   "nbconvert_exporter": "python",
   "pygments_lexer": "ipython3",
   "version": "3.10.14"
  }
 },
 "nbformat": 4,
 "nbformat_minor": 5
}
