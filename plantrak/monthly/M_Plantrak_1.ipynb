{
 "cells": [
  {
   "cell_type": "code",
   "execution_count": 1,
   "id": "c3a132bc-61dd-48b2-947c-43fdd3e21852",
   "metadata": {},
   "outputs": [],
   "source": [
    "import pandas as pd\n",
    "import datetime\n",
    "from datetime import datetime, timedelta,date\n",
    "import os\n",
    "import polars as pl\n",
    "import gc\n",
    "from tqdm import tqdm\n",
    "import calendar\n",
    "\n",
    "import s3fs\n",
    "import boto3\n",
    "from io import BytesIO as bo"
   ]
  },
  {
   "cell_type": "markdown",
   "id": "31af045a",
   "metadata": {},
   "source": [
    "### ADD DATE PARM date_parm_mth_plantrak for bit process ?"
   ]
  },
  {
   "cell_type": "code",
   "execution_count": 2,
   "id": "72a6cd68-60ac-44f2-9f33-584318f306ee",
   "metadata": {},
   "outputs": [],
   "source": [
    "#variables -\n",
    "this_day = datetime.today()\n",
    "# FOR TESTING\n",
    "#this_day = this_day - timedelta(days=21)\n",
    "###\n",
    "days_to_monday = (this_day.weekday() - 0) % 7\n",
    "monday = this_day - timedelta(days=days_to_monday)\n",
    "\n",
    "CUR_PROC_WK = monday.strftime(\"%Y%m%d\")\n",
    "CUR_WK0 = monday - timedelta(days=17)\n",
    "CUR_WK = str(CUR_WK0.year) + str(CUR_WK0.month).zfill(2) + str(CUR_WK0.day).zfill(2)\n",
    "\n",
    "# end of month calc - \n",
    "year, month = monday.year, monday.month\n",
    "\n",
    "_, last_day = calendar.monthrange(year, month)"
   ]
  },
  {
   "cell_type": "code",
   "execution_count": 11,
   "id": "c0b633cf-f997-4b3c-b156-d70eb9612da0",
   "metadata": {},
   "outputs": [],
   "source": [
    "# Create a new datetime object for the last day of the month\n",
    "max_period_key = CUR_WK0.replace(day=last_day)\n",
    "max_period_key = max_period_key.replace(hour=0, minute=0, second=0, microsecond=0)\n",
    "max_period_key=pd.Timestamp(max_period_key)"
   ]
  },
  {
   "cell_type": "code",
   "execution_count": 23,
   "id": "1be58a7e-1dce-44c2-86bf-623539616ce2",
   "metadata": {},
   "outputs": [
    {
     "data": {
      "text/plain": [
       "Timestamp('2024-06-30 00:00:00')"
      ]
     },
     "execution_count": 23,
     "metadata": {},
     "output_type": "execute_result"
    }
   ],
   "source": [
    "#for testing -\n",
    "max_period_key = pd.Timestamp(2024,6,30)\n",
    "max_period_key"
   ]
  },
  {
   "cell_type": "code",
   "execution_count": 16,
   "id": "df241afb-3bdd-4813-b317-56455a3b15b9",
   "metadata": {},
   "outputs": [],
   "source": [
    "# Grabbing IW Release File \n",
    "s3 = s3fs.S3FileSystem()\n",
    "bucket_list = s3.listdir(f'vortex-staging-a65ced90/PYADM/raw/{CUR_PROC_WK}/inbound/')\n",
    "for file in bucket_list:\n",
    "    if (file['Key'].__contains__(f\"IRWD_RELEASE_WKLY_{CUR_PROC_WK}\")):\n",
    "        release_file = file['Key']\n",
    "\n",
    "# Reading Release File -\n",
    "s3_client = boto3.client('s3')\n",
    "bucket = release_file.split('/')[0]\n",
    "file_key = release_file.split('/',1)[1]\n",
    "\n",
    "adm = pd.read_csv(f's3://{bucket}/{file_key}',sep='|')\n",
    "adm1 = adm[CUR_PROC_WK].tolist()\n",
    "\n",
    "for item in adm1:\n",
    "    if item.startswith('P_OUT_110_WKLY_PLANTRAK-2_'):\n",
    "        PLANTRAK_TIMESTAMP = item.split('_')[-1].split('.')[0]"
   ]
  },
  {
   "cell_type": "code",
   "execution_count": 24,
   "id": "be83dc2c-b799-4340-b017-c72c70a97b05",
   "metadata": {},
   "outputs": [],
   "source": [
    "#for testing -\n",
    "CUR_PROC_WK = '20240617'\n",
    "PLANTRAK_TIMESTAMP = '20240617020445'\n",
    "bucket = 'vortex-staging-a65ced90'"
   ]
  },
  {
   "cell_type": "code",
   "execution_count": 25,
   "id": "afdaa26a-31de-4de5-96b2-a27ced950343",
   "metadata": {},
   "outputs": [],
   "source": [
    "#LIBNAMES\n",
    "raw_path = f'PYADM/raw/{CUR_PROC_WK}/inbound/'\n",
    "curwk = f'PYADM/raw/{CUR_PROC_WK}/dataframes/'"
   ]
  },
  {
   "cell_type": "markdown",
   "id": "f32f824e-5fad-416f-a081-064027923b6f",
   "metadata": {},
   "source": [
    "Start"
   ]
  },
  {
   "cell_type": "code",
   "execution_count": 28,
   "id": "1a464ebd-1353-4f1e-a6a7-440e6639a7d1",
   "metadata": {},
   "outputs": [],
   "source": [
    "# Reading Period File to get Week_End_Date, will help in trimming data \n",
    "#curwk_DATE_PARM_MT = pl.read_parquet(curwk+\"//curwk_DATE_PARM_MTH.parquet\")\n",
    "curwk_DATE_PARM_MT = pl.read_parquet(f's3://{bucket}/{curwk}curwk_DATE_PARM_MTH.parquet')\n",
    "\n",
    "curwk_DATE_PARM_MT= curwk_DATE_PARM_MT.drop('DATE_AS_OF')\n",
    "min_month = curwk_DATE_PARM_MT['CCYYMM'][-1]\n",
    "last_day = calendar.monthrange(int(min_month[:4]),int(min_month[4:6]))[1]\n",
    "min_period_key = date(int(min_month[:4]),int(min_month[4:6]),last_day)\n",
    "min_period_key = pd.to_datetime(min_period_key)\n",
    "\n",
    "# del curwk_DATE_PARM_MT\n",
    "# del min_month\n",
    "# del last_day\n",
    "# gc.collect()"
   ]
  },
  {
   "cell_type": "code",
   "execution_count": 36,
   "id": "2459b8fa-b632-44c5-af33-e02df8bc0224",
   "metadata": {},
   "outputs": [],
   "source": [
    "input_file = f's3://{bucket}/{raw_path}P_OUT_110_WKLY_PLANTRAK_{PLANTRAK_TIMESTAMP}.TXT'\n",
    "collist = [\n",
    "    'ChannelID', 'IID', 'ProductID', 'ProductName', \n",
    "    'PlanID', 'PlanName', 'PayerID', 'PayerName', 'PBMID', 'PBMName', 'MonthKey', \n",
    "    'TotalRx', 'NewRx', 'TotalQuantity', 'NewQuantity', 'TotalFactoredQuantity', 'NewFactoredQuantity'\n",
    "]"
   ]
  },
  {
   "cell_type": "code",
   "execution_count": 37,
   "id": "9854a1e0-1acb-4bc9-9c22-c1d63444da1b",
   "metadata": {},
   "outputs": [
    {
     "data": {
      "text/plain": [
       "'s3://vortex-staging-a65ced90/PYADM/raw/20240617/inbound/P_OUT_110_WKLY_PLANTRAK_20240617020445.TXT'"
      ]
     },
     "execution_count": 37,
     "metadata": {},
     "output_type": "execute_result"
    }
   ],
   "source": [
    "input_file"
   ]
  },
  {
   "cell_type": "code",
   "execution_count": 38,
   "id": "bf201b8f-224b-44f3-94f7-43bdd98f4ff0",
   "metadata": {},
   "outputs": [
    {
     "data": {
      "text/plain": [
       "Timestamp('2024-06-30 00:00:00')"
      ]
     },
     "execution_count": 38,
     "metadata": {},
     "output_type": "execute_result"
    }
   ],
   "source": [
    "max_period_key"
   ]
  },
  {
   "cell_type": "code",
   "execution_count": 39,
   "id": "2fdf47c0-427f-406f-9784-f5bea43a9469",
   "metadata": {},
   "outputs": [],
   "source": [
    "reader = pd.read_csv(\n",
    "    input_file,delimiter='|',\n",
    "    dtype={12:str} # that column had mixed dtypes\n",
    "    ,parse_dates=['MonthKey'],\n",
    "    usecols=collist,\n",
    "    #nrows=100000, \n",
    "    chunksize=1000000, \n",
    "    iterator=True\n",
    ")"
   ]
  },
  {
   "cell_type": "code",
   "execution_count": 40,
   "id": "661b8519-d10a-45ad-ba80-dca83c951588",
   "metadata": {},
   "outputs": [
    {
     "name": "stderr",
     "output_type": "stream",
     "text": [
      "30it [05:39, 11.30s/it]\n"
     ]
    },
    {
     "data": {
      "text/plain": [
       "(28024583, 17)"
      ]
     },
     "execution_count": 40,
     "metadata": {},
     "output_type": "execute_result"
    }
   ],
   "source": [
    "RAW_RX_PLANTRAK_MONTHLY = pl.DataFrame()\n",
    "for chunk in tqdm(reader): \n",
    "    # added the second condition in the filter to disregard current month data\n",
    "    chunk_df = (\n",
    "        pl.DataFrame(chunk)\n",
    "        .lazy()\n",
    "        .filter((pl.col('MonthKey') >= pl.datetime(min_period_key.year,min_period_key.month,min_period_key.day)) & \n",
    "                (pl.col('MonthKey') < pl.datetime(max_period_key.year,max_period_key.month,max_period_key.day))) \n",
    "        .with_columns(pl.col('MonthKey').dt.strftime('%Y%m%d'))\n",
    "        .collect()\n",
    "    )\n",
    "    \n",
    "    RAW_RX_PLANTRAK_MONTHLY.vstack(chunk_df,in_place=True)\n",
    "# # 1 is RTL , 2 is MO\n",
    "del chunk_df\n",
    "del chunk\n",
    "gc.collect()\n",
    "\n",
    "RAW_RX_PLANTRAK_MONTHLY.shape\n",
    "# mindate-> 2018-04-30 00:00:00\n",
    "# maxdate-> 2023-12-31 00:00:00"
   ]
  },
  {
   "cell_type": "markdown",
   "id": "7adee390-8e06-43fc-9aa0-ce2e16571387",
   "metadata": {},
   "source": [
    "No need to join with parm , Period Key already comes in with month ending dates  "
   ]
  },
  {
   "cell_type": "code",
   "execution_count": 43,
   "id": "3b219deb-cae2-43f4-89bc-10476ebc58b4",
   "metadata": {},
   "outputs": [
    {
     "data": {
      "text/plain": [
       "3.846360420808196"
      ]
     },
     "execution_count": 43,
     "metadata": {},
     "output_type": "execute_result"
    }
   ],
   "source": [
    "pl.enable_string_cache()\n",
    "RAW_RX_PLANTRAK_MONTHLY = RAW_RX_PLANTRAK_MONTHLY.with_columns([\n",
    "    pl.col(\"ChannelID\").cast(pl.Utf8).cast(pl.Categorical),\n",
    "    pl.col(\"ProductID\").cast(pl.Utf8).cast(pl.Categorical),\n",
    "    pl.col(\"ProductName\").cast(pl.Utf8).cast(pl.Categorical),\n",
    "    pl.col(\"MonthKey\").cast(pl.Utf8).cast(pl.Categorical)\n",
    "])\n",
    "RAW_RX_PLANTRAK_MONTHLY.estimated_size(unit='gb')"
   ]
  },
  {
   "cell_type": "markdown",
   "id": "96f4a218-ea4c-4706-8e0a-af65ad488cd2",
   "metadata": {},
   "source": [
    "##### Creating Date Param \n",
    "(keeping this section commented for now , as data should narually be limited to 24 because of input date filter)"
   ]
  },
  {
   "cell_type": "code",
   "execution_count": 44,
   "id": "f707a8e1-4281-481f-a96c-5acb6582037a",
   "metadata": {},
   "outputs": [],
   "source": [
    "# RX_PERIOD_MTHSORT = RAW_RX_PLANTRAK_MONTHLY[['PeriodKey']].unique()\n",
    "# RX_PERIOD_MTHSORT = RX_PERIOD_MTHSORT.with_columns(\n",
    "#     pl.col('PeriodKey').cast(pl.Utf8)\n",
    "#     .str.to_datetime(format='%Y%m%d')\n",
    "#     .alias('PK')\n",
    "# )\n",
    "# RX_PERIOD_MTHSORT = RX_PERIOD_MTHSORT.sort(by=['PK'])\n",
    "# RX_PERIOD_MTHSORT = RX_PERIOD_MTHSORT.with_row_count(name=\"I\",offset = 1)\n",
    "# RX_PERIOD_MTHSORT = RX_PERIOD_MTHSORT.drop('PK')"
   ]
  },
  {
   "cell_type": "code",
   "execution_count": 45,
   "id": "a531df07-7dce-4857-87ad-7e48fa7066b7",
   "metadata": {},
   "outputs": [
    {
     "name": "stdout",
     "output_type": "stream",
     "text": [
      "Expected Result 0  :  0\n"
     ]
    }
   ],
   "source": [
    "## Reading Mergecases -\n",
    "MERGECASES = pl.read_parquet(f's3://{bucket}/{curwk}curwk_MERGES.parquet' ,columns = ['IID','IronwoodWinnerID'])\n",
    "# Make sure there is no issues wih MERGECASES QC's from Main adm should pass, if not request clean file\n",
    "#Quick Check -\n",
    "pre = MERGECASES.shape[0]\n",
    "MERGECASES.unique(subset=['IID','IronwoodWinnerID'])\n",
    "post = MERGECASES.shape[0]\n",
    "print(\"Expected Result 0  : \",pre-post)\n"
   ]
  },
  {
   "cell_type": "code",
   "execution_count": 46,
   "id": "02dae485-f027-41fe-b120-ef261a10d88d",
   "metadata": {},
   "outputs": [
    {
     "name": "stdout",
     "output_type": "stream",
     "text": [
      "Number of LooserID records found in raw data :  83\n"
     ]
    },
    {
     "data": {
      "text/plain": [
       "7"
      ]
     },
     "execution_count": 46,
     "metadata": {},
     "output_type": "execute_result"
    }
   ],
   "source": [
    "temp_MERGECASES_ids  = list(MERGECASES['IID'].unique())\n",
    "LOOSER_RX = RAW_RX_PLANTRAK_MONTHLY.filter(pl.col('IID').is_in(temp_MERGECASES_ids)) \n",
    "WINNER_RX = RAW_RX_PLANTRAK_MONTHLY.filter(~pl.col('IID').is_in(temp_MERGECASES_ids))\n",
    "print(\"Number of LooserID records found in raw data : \",LOOSER_RX.shape[0])\n",
    "del RAW_RX_PLANTRAK_MONTHLY\n",
    "gc.collect()"
   ]
  },
  {
   "cell_type": "code",
   "execution_count": 47,
   "id": "847fe84d-c8e0-4b15-a77c-97bc8aba900a",
   "metadata": {},
   "outputs": [
    {
     "data": {
      "text/plain": [
       "0"
      ]
     },
     "execution_count": 47,
     "metadata": {},
     "output_type": "execute_result"
    }
   ],
   "source": [
    "#Fixing Looser ID records\n",
    "LOOSER_RX = LOOSER_RX.join(MERGECASES,on='IID',how='left')\n",
    "group_cols = ['IronwoodWinnerID','ChannelID','ProductID','ProductName',\n",
    "             'PlanID','PlanName','PayerID','PayerName','PBMID','PBMName','MonthKey']\n",
    "sum_cols = ['TotalRx','TotalQuantity','TotalFactoredQuantity','NewRx','NewQuantity','NewFactoredQuantity']\n",
    "\n",
    "#perform groupby and calc function \n",
    "LOOSER_RX1 = LOOSER_RX.group_by(group_cols).agg([pl.col(c).sum() for c in sum_cols])\n",
    "LOOSER_RX1= LOOSER_RX1.rename({'IronwoodWinnerID':'IID'})\n",
    "del LOOSER_RX\n",
    "del MERGECASES\n",
    "gc.collect()"
   ]
  },
  {
   "cell_type": "code",
   "execution_count": 48,
   "id": "c419222e-3bc2-45bc-9b99-88b4204bc742",
   "metadata": {},
   "outputs": [
    {
     "data": {
      "text/plain": [
       "0"
      ]
     },
     "execution_count": 48,
     "metadata": {},
     "output_type": "execute_result"
    }
   ],
   "source": [
    "# Combining back with winner (note , im trying not to make new dataframes because of large sizes)\n",
    "LOOSER_RX1 = LOOSER_RX1.select(WINNER_RX.columns)\n",
    "WINNER_RX.vstack(LOOSER_RX1,in_place=True)\n",
    "WINNER_RX.shape\n",
    "\n",
    "del LOOSER_RX1\n",
    "gc.collect()"
   ]
  },
  {
   "cell_type": "code",
   "execution_count": 49,
   "id": "abef5e65-6898-4ec3-91b5-0caa567b0cca",
   "metadata": {},
   "outputs": [
    {
     "data": {
      "text/plain": [
       "3.8463599737733603"
      ]
     },
     "execution_count": 49,
     "metadata": {},
     "output_type": "execute_result"
    }
   ],
   "source": [
    "WINNER_RX.estimated_size(unit='gb')"
   ]
  },
  {
   "cell_type": "code",
   "execution_count": 50,
   "id": "71acc669-9368-4a53-92d4-7c5de0cb41f3",
   "metadata": {},
   "outputs": [
    {
     "data": {
      "text/plain": [
       "0"
      ]
     },
     "execution_count": 50,
     "metadata": {},
     "output_type": "execute_result"
    }
   ],
   "source": [
    "# import sys\n",
    "\n",
    "# # These are the usual ipython objects, including this one you are creating\n",
    "# ipython_vars = ['In', 'Out', 'exit', 'quit', 'get_ipython', 'ipython_vars']\n",
    "\n",
    "# # Get a sorted list of the objects and their sizes\n",
    "# sorted([(x, sys.getsizeof(globals().get(x))) for x in dir() if not x.startswith('_') and x not in sys.modules and x not in ipython_vars], key=lambda x: x[1], reverse=True)\n",
    "\n",
    "# Memory Control :\n",
    "\n",
    "del temp_MERGECASES_ids\n",
    "\n",
    "gc.collect()"
   ]
  },
  {
   "cell_type": "code",
   "execution_count": 51,
   "id": "1c5bc0bf-1dc1-44ac-a2fa-7856efc433f4",
   "metadata": {},
   "outputs": [],
   "source": [
    "# Adding an export at this step because of unexplained behaviour with RAM usage.\n",
    "#WINNER_RX.write_parquet(curwk+'\\\\temp_WINNER_RX.parquet',compression='zstd',compression_level=10,use_pyarrow=True)"
   ]
  },
  {
   "cell_type": "code",
   "execution_count": 52,
   "id": "5b12aa96-1b63-4bfc-a5d5-f4291f26adc2",
   "metadata": {},
   "outputs": [],
   "source": [
    "# Summerize Winner Raw Data. # Operation too heavy , not working\n",
    "group_cols = ['IID','ChannelID','ProductID','ProductName',\n",
    "             'PlanID','PlanName','PayerID','PayerName','PBMID','PBMName','MonthKey']\n",
    "sum_cols = ['TotalRx','TotalQuantity','TotalFactoredQuantity','NewRx','NewQuantity','NewFactoredQuantity']\n",
    "\n",
    "WINNER_RX = WINNER_RX.group_by(group_cols).agg([pl.col(c).sum() for c in sum_cols])"
   ]
  },
  {
   "cell_type": "code",
   "execution_count": 53,
   "id": "1b37f16c-65a7-40e5-bb6d-55a80544b462",
   "metadata": {},
   "outputs": [
    {
     "name": "stdout",
     "output_type": "stream",
     "text": [
      "this should always be 24 :  24\n"
     ]
    }
   ],
   "source": [
    "print(\"this should always be 24 : \",len(WINNER_RX['MonthKey'].unique()))"
   ]
  },
  {
   "cell_type": "code",
   "execution_count": 54,
   "id": "66e2c6dc-4be9-4282-babf-67c4da2f9207",
   "metadata": {},
   "outputs": [],
   "source": [
    "#Export Code for Next Code\n",
    "#WINNER_RX.write_parquet(curwk+'\\\\RAW_RX_PLANTRAK_CUR_MTH.parquet',compression='zstd',compression_level=10,use_pyarrow=True)\n",
    "WINNER_RX.to_pandas().to_parquet(f's3://{bucket}/{curwk}RAW_RX_PLANTRAK_CUR_MTH.parquet',compression='snappy')"
   ]
  }
 ],
 "metadata": {
  "kernelspec": {
   "display_name": "Python 3 (ipykernel)",
   "language": "python",
   "name": "python3"
  },
  "language_info": {
   "codemirror_mode": {
    "name": "ipython",
    "version": 3
   },
   "file_extension": ".py",
   "mimetype": "text/x-python",
   "name": "python",
   "nbconvert_exporter": "python",
   "pygments_lexer": "ipython3",
   "version": "3.10.14"
  }
 },
 "nbformat": 4,
 "nbformat_minor": 5
}
