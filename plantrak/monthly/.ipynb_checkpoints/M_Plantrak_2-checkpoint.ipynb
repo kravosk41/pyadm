{
 "cells": [
  {
   "cell_type": "code",
   "execution_count": 3,
   "id": "966e44d5-2f27-4578-b34a-0d75bf0b8903",
   "metadata": {},
   "outputs": [],
   "source": [
    "import polars as pl\n",
    "from datetime import datetime, timedelta\n",
    "import os\n",
    "import gc\n",
    "from tqdm import tqdm"
   ]
  },
  {
   "cell_type": "code",
   "execution_count": 2,
   "id": "f156be73-e70d-4195-979a-bea60ca4f6a7",
   "metadata": {},
   "outputs": [],
   "source": [
    "this_day = datetime.today()\n",
    "# FOR TESTING\n",
    "this_day = this_day - timedelta(days=21)\n",
    "###\n",
    "days_to_monday = (this_day.weekday() - 0) % 7\n",
    "monday = this_day - timedelta(days=days_to_monday)\n",
    "CUR_PROC_WK = monday.strftime(\"%Y%m%d\")\n",
    "\n",
    "CUR_MTH = monday - timedelta(days=17)\n",
    "CUR_MTH = CUR_MTH.replace(day=1)\n",
    "CUR_MTH = CUR_MTH.strftime(\"%Y%m\")\n",
    "\n",
    "bucket = 'vortex-staging-a65ced90'"
   ]
  },
  {
   "cell_type": "code",
   "execution_count": 4,
   "id": "53ae6adb-d782-43a5-af5c-4d138c81d9dc",
   "metadata": {},
   "outputs": [],
   "source": [
    "#for testing -\n",
    "CUR_PROC_WK = '20240617'\n",
    "PLANTRAK_TIMESTAMP = '20240617020445'\n",
    "bucket = 'vortex-staging-a65ced90'"
   ]
  },
  {
   "cell_type": "code",
   "execution_count": 5,
   "id": "16cbb69b-3873-4776-bcfc-3ad9c33df138",
   "metadata": {},
   "outputs": [
    {
     "name": "stdout",
     "output_type": "stream",
     "text": [
      "PYADM/monthly/archive/202405/plantrak/\n"
     ]
    }
   ],
   "source": [
    "#libs\n",
    "curwk = f'PYADM/raw/{CUR_PROC_WK}/dataframes/'\n",
    "ptk = f'PYADM/monthly/archive/{CUR_MTH}/plantrak/'\n",
    "\n",
    "\n",
    "print(ptk)"
   ]
  },
  {
   "cell_type": "code",
   "execution_count": 6,
   "id": "03734e3a-c79d-419c-9d93-dfbdc28d100e",
   "metadata": {},
   "outputs": [],
   "source": [
    "#Picking Up Data from m plantrak 1.5\n",
    "#WK_LAX= pl.read_parquet(curwk+'\\\\RAW_RX_PLANTRAK_CUR_MTH.parquet')\n",
    "WK_LAX = pl.read_parquet(f's3://{bucket}/{curwk}RAW_RX_PLANTRAK_CUR_MTH.parquet')"
   ]
  },
  {
   "cell_type": "code",
   "execution_count": 9,
   "id": "9d71a636-90c9-4105-a1fa-5a6da71f4335",
   "metadata": {},
   "outputs": [
    {
     "data": {
      "text/plain": [
       "208"
      ]
     },
     "execution_count": 9,
     "metadata": {},
     "output_type": "execute_result"
    }
   ],
   "source": [
    "def pad_with_zeros(val):\n",
    "    return str(val).zfill(8)\n",
    "\n",
    "WK_TMP = WK_LAX.with_columns(pl.col('ProductID').map_elements(pad_with_zeros,return_dtype=pl.String))\n",
    "del WK_LAX\n",
    "gc.collect()"
   ]
  },
  {
   "cell_type": "code",
   "execution_count": 11,
   "id": "40a4e3c3-3727-4ab0-b667-1815fc528a6f",
   "metadata": {},
   "outputs": [],
   "source": [
    "WK_TMP = WK_TMP.drop(['ProductName'])\n",
    "\n",
    "rename_items = {\n",
    "    'ProductID':'PG_ID',\n",
    "    'TotalRx':'TRX','NewRx':'NRX',\n",
    "    'TotalQuantity':'TUN','NewQuantity':'NUN',\n",
    "    'TotalFactoredQuantity':'TUF','NewFactoredQuantity':'NUF'\n",
    "}\n",
    "\n",
    "WK_TMP = WK_TMP.rename(rename_items)"
   ]
  },
  {
   "cell_type": "code",
   "execution_count": 12,
   "id": "e2c9c428-8cfd-4d8f-bcd5-5622ce4b205a",
   "metadata": {},
   "outputs": [],
   "source": [
    "std_sec_def = pl.read_parquet(f's3://{bucket}/PYADM/reference/std_sec_def.parquet')\n",
    "\n",
    "WK_TMP = WK_TMP.join(std_sec_def,on='PG_ID',how='inner')\n",
    "WK_TMP = WK_TMP.drop('MKT_NAME','MKT_CD')"
   ]
  },
  {
   "cell_type": "code",
   "execution_count": 13,
   "id": "c373ded8-0702-4a5e-8df9-18f987b90e01",
   "metadata": {},
   "outputs": [],
   "source": [
    "## Too intensive for memory if used left join \n",
    "WK_TMP = WK_TMP.filter(pl.col('PROD_CD')!='LIN')"
   ]
  },
  {
   "cell_type": "code",
   "execution_count": 14,
   "id": "f590496e-b700-4494-ab1d-b702fb6b4a4c",
   "metadata": {},
   "outputs": [
    {
     "data": {
      "text/plain": [
       "0"
      ]
     },
     "execution_count": 14,
     "metadata": {},
     "output_type": "execute_result"
    }
   ],
   "source": [
    "# Heavy opration -\n",
    "group_cols = ['IID','MonthKey','G_B','RO_TYPE','PFAM_CD','PFAM_NAME','PROD_CD','PROD_NAME',\n",
    "             'PlanID','PlanName','PayerID','PayerName','PBMID','PBMName']\n",
    "sum_cols = ['TRX','NRX','TUN','NUN','TUF','NUF']\n",
    "\n",
    "# #perform groupby and calc function \n",
    "LAX_N = pl.DataFrame()\n",
    "\n",
    "LAX_N = WK_TMP.fill_null(\"\").group_by(group_cols).agg(\n",
    "    [pl.col(c).sum() for c in sum_cols]\n",
    ")\n",
    "\n",
    "del WK_TMP\n",
    "gc.collect()"
   ]
  },
  {
   "cell_type": "code",
   "execution_count": 15,
   "id": "7ac3de05-54f2-473f-bcf7-8784717de1e5",
   "metadata": {},
   "outputs": [],
   "source": [
    "# # Adding CCYYMM column - If we can extract Month value from period key itself ,\n",
    "# # its redundant to have it as two columns \n",
    "# # but if its really required , uncomment this section\n",
    "# LAX_N = LAX_N.with_columns(\n",
    "#     pl.col('PeriodKey')\n",
    "#     .cast(pl.Utf8)\n",
    "#     .str.slice(offset=0,length=6)\n",
    "#     .alias('CCYYMM')\n",
    "# )"
   ]
  },
  {
   "cell_type": "code",
   "execution_count": 16,
   "id": "b81b3034-0890-4eb5-8ce3-165ea340e5ae",
   "metadata": {},
   "outputs": [],
   "source": [
    "#LAX_N.write_parquet(ptk+'\\\\LAX_N.parquet',compression='zstd',compression_level=10,use_pyarrow=True)\n",
    "LAX_N.to_pandas().to_parquet(f's3://{bucket}/{ptk}LAX_N.parquet',compression='snappy')"
   ]
  }
 ],
 "metadata": {
  "kernelspec": {
   "display_name": "Python 3 (ipykernel)",
   "language": "python",
   "name": "python3"
  },
  "language_info": {
   "codemirror_mode": {
    "name": "ipython",
    "version": 3
   },
   "file_extension": ".py",
   "mimetype": "text/x-python",
   "name": "python",
   "nbconvert_exporter": "python",
   "pygments_lexer": "ipython3",
   "version": "3.10.14"
  }
 },
 "nbformat": 4,
 "nbformat_minor": 5
}
