{
 "cells": [
  {
   "cell_type": "markdown",
   "metadata": {},
   "source": [
    "Not sure what this is for"
   ]
  },
  {
   "cell_type": "code",
   "execution_count": 17,
   "metadata": {},
   "outputs": [],
   "source": [
    "import polars as pl\n",
    "from datetime import timedelta,date"
   ]
  },
  {
   "cell_type": "code",
   "execution_count": 18,
   "metadata": {},
   "outputs": [],
   "source": [
    "starting_month = 1\n",
    "starting_year = 2024\n",
    "starting_date = date(starting_year,starting_month,1)"
   ]
  },
  {
   "cell_type": "code",
   "execution_count": 19,
   "metadata": {},
   "outputs": [],
   "source": [
    "I = list(range(1,25))\n",
    "CCYYMM = [\n",
    "    (starting_date - timedelta(days=30*i)).strftime('%Y%m') for i in range(24)\n",
    "]\n",
    "PERIOD_KEY = [\n",
    "    (starting_date - timedelta(days=30*i)).replace(day=1) - timedelta(days=1) for i in range(24)\n",
    "]"
   ]
  },
  {
   "cell_type": "code",
   "execution_count": 20,
   "metadata": {},
   "outputs": [],
   "source": [
    "# Create the DataFrame\n",
    "df = pl.DataFrame({\n",
    "    'I': I,\n",
    "    'CCYYMM': CCYYMM,\n",
    "    'PERIOD_KEY': PERIOD_KEY\n",
    "})"
   ]
  },
  {
   "cell_type": "markdown",
   "metadata": {},
   "source": [
    "### Change month in path here"
   ]
  },
  {
   "cell_type": "code",
   "execution_count": 22,
   "metadata": {},
   "outputs": [],
   "source": [
    "df.write_parquet(r'U:\\Ironwood\\Projects\\PYADM\\monthly\\archive\\202401\\reference\\date_parm_mth_plantrak.parquet')"
   ]
  }
 ],
 "metadata": {
  "kernelspec": {
   "display_name": "Python 3 (ipykernel)",
   "language": "python",
   "name": "python3"
  },
  "language_info": {
   "codemirror_mode": {
    "name": "ipython",
    "version": 3
   },
   "file_extension": ".py",
   "mimetype": "text/x-python",
   "name": "python",
   "nbconvert_exporter": "python",
   "pygments_lexer": "ipython3",
   "version": "3.10.14"
  }
 },
 "nbformat": 4,
 "nbformat_minor": 4
}
