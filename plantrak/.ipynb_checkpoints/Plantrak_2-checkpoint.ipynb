{
 "cells": [
  {
   "cell_type": "code",
   "execution_count": 1,
   "id": "798170bf-6282-49eb-850d-a27fdbbbcdd4",
   "metadata": {},
   "outputs": [],
   "source": [
    "import pandas as pd\n",
    "import datetime\n",
    "from datetime import datetime, timedelta\n",
    "import os\n",
    "import polars as pl\n",
    "import gc\n",
    "import numpy as np\n",
    "from tqdm import tqdm\n",
    "\n",
    "import s3fs\n",
    "import boto3\n",
    "from io import BytesIO as bo"
   ]
  },
  {
   "cell_type": "code",
   "execution_count": 2,
   "id": "f7ceaa6f-c85f-400f-85ca-8b910e4642e8",
   "metadata": {},
   "outputs": [],
   "source": [
    "#variables -\n",
    "this_day = datetime.today()\n",
    "### FOR TESTING - REMOVE LATER ### \n",
    "this_day = this_day - timedelta(days=7)\n",
    "####\n",
    "days_to_monday = (this_day.weekday() - 0) % 7\n",
    "monday = this_day - timedelta(days=days_to_monday)\n",
    "\n",
    "CUR_PROC_WK = monday.strftime(\"%Y%m%d\")\n",
    "\n",
    "PRE_PROC_WK0 = monday - timedelta(days=7)\n",
    "PRE_PROC_WK = str(PRE_PROC_WK0.year) + str(PRE_PROC_WK0.month).zfill(2) + str(PRE_PROC_WK0.day).zfill(2)\n",
    "\n",
    "CUR_WK0 = monday - timedelta(days=17)\n",
    "CUR_WK = str(CUR_WK0.year) + str(CUR_WK0.month).zfill(2) + str(CUR_WK0.day).zfill(2)\n",
    "\n",
    "PRE_WK0 = monday - timedelta(days=24)\n",
    "PRE_WK = PRE_WK0.strftime(\"%Y%m%d\")"
   ]
  },
  {
   "cell_type": "code",
   "execution_count": 3,
   "id": "aefa2e9c-c01a-4822-88b9-f5c0a081dd3b",
   "metadata": {},
   "outputs": [],
   "source": [
    "bucket = 'vortex-staging-a65ced90'"
   ]
  },
  {
   "cell_type": "code",
   "execution_count": 4,
   "id": "792894fb-e380-45ec-8243-f4cac28ad014",
   "metadata": {},
   "outputs": [],
   "source": [
    "#LIBNAMES\n",
    "raw_path = f'PYADM/raw/{CUR_PROC_WK}/inbound/'\n",
    "curwk = f'PYADM/raw/{CUR_PROC_WK}/dataframes/'\n",
    "ptk = f'PYADM/weekly/archive/{CUR_WK}/plantrak/'"
   ]
  },
  {
   "cell_type": "code",
   "execution_count": 5,
   "id": "a8045fc7-6e11-4cfe-bddf-c10ab9cdd22e",
   "metadata": {},
   "outputs": [],
   "source": [
    "#Picking Up Data from plantrak_1\n",
    "#WK_LAX= pl.read_parquet(curwk+'\\\\RAW_RX_PLANTRAK_CUR_WK.parquet')\n",
    "\n",
    "WK_LAX= pl.read_parquet(f's3://{bucket}/{curwk}RAW_RX_PLANTRAK_CUR_WK.parquet')\n",
    "#filter step to only keep mkt = lax but i already dropped that column"
   ]
  },
  {
   "cell_type": "code",
   "execution_count": 6,
   "id": "de05b244-9bdc-463b-9f07-e02ded5793ef",
   "metadata": {},
   "outputs": [
    {
     "data": {
      "text/plain": [
       "11"
      ]
     },
     "execution_count": 6,
     "metadata": {},
     "output_type": "execute_result"
    }
   ],
   "source": [
    "def pad_with_zeros(val):\n",
    "    return str(val).zfill(8)\n",
    "\n",
    "WK_TMP = WK_LAX.with_columns(pl.col('ProductID').map_elements(pad_with_zeros,return_dtype=pl.String))\n",
    "del WK_LAX\n",
    "gc.collect()"
   ]
  },
  {
   "cell_type": "code",
   "execution_count": 7,
   "id": "2dc7d905-5688-4af6-a6ec-e51b35ed82fb",
   "metadata": {},
   "outputs": [],
   "source": [
    "WK_TMP = WK_TMP.drop(['ProductName'])\n",
    "\n",
    "rename_items = {\n",
    "    'ProductID':'PG_ID',\n",
    "    'TotalRx':'TRX','NewRx':'NRX',\n",
    "    'TotalQuantity':'TUN','NewQuantity':'NUN',\n",
    "    'TotalFactoredQuantity':'TUF','NewFactoredQuantity':'NUF'\n",
    "}\n",
    "\n",
    "WK_TMP = WK_TMP.rename(rename_items)"
   ]
  },
  {
   "cell_type": "code",
   "execution_count": 8,
   "id": "ed39b06a-1181-444e-84f4-d35074ee454f",
   "metadata": {},
   "outputs": [],
   "source": [
    "std_sec_def = pl.read_parquet(f's3://{bucket}/PYADM/reference/std_sec_def.parquet')\n",
    "\n",
    "WK_TMP = WK_TMP.join(std_sec_def,on='PG_ID',how='inner')\n",
    "WK_TMP = WK_TMP.drop(['MKT_NAME','MKT_CD'])"
   ]
  },
  {
   "cell_type": "code",
   "execution_count": 9,
   "id": "21523561-66a6-423a-8838-f490dd14a4cc",
   "metadata": {},
   "outputs": [],
   "source": [
    "PRODUCTCHECK = WK_TMP.select(['PG_ID','PRODUCT_NAME','PROD_CD']).unique() # unsure of use"
   ]
  },
  {
   "cell_type": "code",
   "execution_count": 10,
   "id": "30ffa254-4670-45be-87a7-4cffd503aece",
   "metadata": {},
   "outputs": [],
   "source": [
    "## Too intensive for memory if used left join \n",
    "WK_TMP = WK_TMP.filter(pl.col('PROD_CD')!='LIN')"
   ]
  },
  {
   "cell_type": "code",
   "execution_count": 11,
   "id": "6166647b-7116-4f59-a05b-9ab3911a5272",
   "metadata": {},
   "outputs": [],
   "source": [
    "#Chunked approach also too fat because memory cant hold WK_TMP1 and WK_TMP together in memory\n",
    "# Potental fix : \n",
    "# Sort and dump to local memory\n",
    "# read > filter > store\n",
    "\n",
    "# def exclude_lin_chunk(df):\n",
    "#     return df.filter((pl.col('PROD_CD')!='LIN') | (pl.col('PROD_CD').is_null()))\n",
    "\n",
    "# WK_TMP1 = pl.DataFrame()\n",
    "# chunk_size = 100000\n",
    "# num_chunks = len(WK_TMP) // chunk_size + 1\n",
    "# for i in range(num_chunks):\n",
    "#     start = i * chunk_size\n",
    "#     end = min((i + 1) * chunk_size, len(WK_TMP))\n",
    "#     chunk = WK_TMP.slice(start, end - start)\n",
    "#     WK_TMP1 = pl.concat([WK_TMP1, exclude_lin_chunk(chunk)])"
   ]
  },
  {
   "cell_type": "code",
   "execution_count": 12,
   "id": "abfd7123-3aa9-4f0e-b6aa-f595e604058c",
   "metadata": {},
   "outputs": [],
   "source": [
    "# redundant step to filter for channelID 1 and 2\n",
    "# add if required"
   ]
  },
  {
   "cell_type": "code",
   "execution_count": 13,
   "id": "991bbdca-f884-4fb5-804b-29de62a3bd35",
   "metadata": {},
   "outputs": [
    {
     "data": {
      "text/plain": [
       "0"
      ]
     },
     "execution_count": 13,
     "metadata": {},
     "output_type": "execute_result"
    }
   ],
   "source": [
    "# Heavy opration -\n",
    "group_cols = ['IID','WK_END_DATE','G_B','RO_TYPE','PFAM_CD','PFAM_NAME','PROD_CD','PROD_NAME',\n",
    "             'PlanID','PlanName','PayerID','PayerName','PBMID','PBMName']\n",
    "sum_cols = ['TRX','NRX','TUN','NUN','TUF','NUF']\n",
    "\n",
    "# #perform groupby and calc function \n",
    "LAX_N = pl.DataFrame()\n",
    "\n",
    "LAX_N = WK_TMP.fill_null(\"\").group_by(group_cols).agg(\n",
    "    [pl.col(c).sum() for c in sum_cols]\n",
    ")\n",
    "\n",
    "del WK_TMP\n",
    "gc.collect()"
   ]
  },
  {
   "cell_type": "code",
   "execution_count": 14,
   "id": "291fb568-ec1a-4e33-be4e-184c5be43c54",
   "metadata": {},
   "outputs": [],
   "source": [
    "#LAX_N.write_parquet(ptk+'\\\\LAX_N.parquet',compression='zstd',compression_level=10,use_pyarrow=True)\n",
    "LAX_N.to_pandas().to_parquet(f's3://{bucket}/{ptk}LAX_N.parquet',compression='snappy')"
   ]
  },
  {
   "cell_type": "markdown",
   "id": "80381e14-26b9-440f-aa5c-6368a4e1fb73",
   "metadata": {},
   "source": [
    "Revamp Notes\n",
    "- Instead of trying to padd in 0s for all the product id records \n",
    "- remove the padded zeros from seg def and then merge, should save a lot more time"
   ]
  }
 ],
 "metadata": {
  "kernelspec": {
   "display_name": "Python 3 (ipykernel)",
   "language": "python",
   "name": "python3"
  },
  "language_info": {
   "codemirror_mode": {
    "name": "ipython",
    "version": 3
   },
   "file_extension": ".py",
   "mimetype": "text/x-python",
   "name": "python",
   "nbconvert_exporter": "python",
   "pygments_lexer": "ipython3",
   "version": "3.10.14"
  }
 },
 "nbformat": 4,
 "nbformat_minor": 5
}
